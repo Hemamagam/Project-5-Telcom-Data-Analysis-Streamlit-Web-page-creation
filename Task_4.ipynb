{
 "cells": [
  {
   "cell_type": "markdown",
   "metadata": {},
   "source": [
    "### Task 4 - Satisfaction Analysis"
   ]
  },
  {
   "cell_type": "markdown",
   "metadata": {},
   "source": [
    "#### Libraries Used"
   ]
  },
  {
   "cell_type": "code",
   "execution_count": 4,
   "metadata": {},
   "outputs": [],
   "source": [
    "import pandas as pd\n",
    "import matplotlib.pyplot as plt\n",
    "import numpy as np\n",
    "import seaborn as sns\n",
    "from sklearn.cluster import KMeans\n",
    "from tabulate import tabulate\n",
    "from kneed import KneeLocator\n",
    "from sklearn.preprocessing import StandardScaler, LabelEncoder\n",
    "from scipy.spatial.distance import euclidean"
   ]
  },
  {
   "cell_type": "code",
   "execution_count": 5,
   "metadata": {},
   "outputs": [
    {
     "data": {
      "text/html": [
       "<div>\n",
       "<style scoped>\n",
       "    .dataframe tbody tr th:only-of-type {\n",
       "        vertical-align: middle;\n",
       "    }\n",
       "\n",
       "    .dataframe tbody tr th {\n",
       "        vertical-align: top;\n",
       "    }\n",
       "\n",
       "    .dataframe thead th {\n",
       "        text-align: right;\n",
       "    }\n",
       "</style>\n",
       "<table border=\"1\" class=\"dataframe\">\n",
       "  <thead>\n",
       "    <tr style=\"text-align: right;\">\n",
       "      <th></th>\n",
       "      <th>Bearer Id</th>\n",
       "      <th>Start</th>\n",
       "      <th>Start ms</th>\n",
       "      <th>End</th>\n",
       "      <th>End ms</th>\n",
       "      <th>Dur. (ms)</th>\n",
       "      <th>IMSI</th>\n",
       "      <th>MSISDN/Number</th>\n",
       "      <th>IMEI</th>\n",
       "      <th>Last Location Name</th>\n",
       "      <th>...</th>\n",
       "      <th>Youtube DL (Bytes)</th>\n",
       "      <th>Youtube UL (Bytes)</th>\n",
       "      <th>Netflix DL (Bytes)</th>\n",
       "      <th>Netflix UL (Bytes)</th>\n",
       "      <th>Gaming DL (Bytes)</th>\n",
       "      <th>Gaming UL (Bytes)</th>\n",
       "      <th>Other DL (Bytes)</th>\n",
       "      <th>Other UL (Bytes)</th>\n",
       "      <th>Total UL (Bytes)</th>\n",
       "      <th>Total DL (Bytes)</th>\n",
       "    </tr>\n",
       "  </thead>\n",
       "  <tbody>\n",
       "    <tr>\n",
       "      <th>0</th>\n",
       "      <td>13114483460844900352</td>\n",
       "      <td>2019-04-04 12:01:18</td>\n",
       "      <td>770.0</td>\n",
       "      <td>2019-04-25 14:35:31</td>\n",
       "      <td>662.0</td>\n",
       "      <td>1823652.0</td>\n",
       "      <td>2.082014e+14</td>\n",
       "      <td>3.366496e+10</td>\n",
       "      <td>3.552121e+13</td>\n",
       "      <td>9164566995485190</td>\n",
       "      <td>...</td>\n",
       "      <td>1.585461e+07</td>\n",
       "      <td>2.501332e+06</td>\n",
       "      <td>8.198936e+06</td>\n",
       "      <td>9.656251e+06</td>\n",
       "      <td>2.780823e+08</td>\n",
       "      <td>1.434415e+07</td>\n",
       "      <td>1.717444e+08</td>\n",
       "      <td>8.814393e+06</td>\n",
       "      <td>36749741.0</td>\n",
       "      <td>308879636.0</td>\n",
       "    </tr>\n",
       "    <tr>\n",
       "      <th>1</th>\n",
       "      <td>13114483482878900224</td>\n",
       "      <td>2019-04-09 13:04:04</td>\n",
       "      <td>235.0</td>\n",
       "      <td>2019-04-25 08:15:48</td>\n",
       "      <td>606.0</td>\n",
       "      <td>1365104.0</td>\n",
       "      <td>2.082019e+14</td>\n",
       "      <td>3.368185e+10</td>\n",
       "      <td>3.579401e+13</td>\n",
       "      <td>L77566A</td>\n",
       "      <td>...</td>\n",
       "      <td>2.024740e+07</td>\n",
       "      <td>1.911173e+07</td>\n",
       "      <td>1.833841e+07</td>\n",
       "      <td>1.722713e+07</td>\n",
       "      <td>6.087501e+08</td>\n",
       "      <td>1.170709e+06</td>\n",
       "      <td>5.269042e+08</td>\n",
       "      <td>1.505514e+07</td>\n",
       "      <td>53800391.0</td>\n",
       "      <td>653384965.0</td>\n",
       "    </tr>\n",
       "    <tr>\n",
       "      <th>2</th>\n",
       "      <td>13114483484080500736</td>\n",
       "      <td>2019-04-09 17:42:11</td>\n",
       "      <td>1.0</td>\n",
       "      <td>2019-04-25 11:58:13</td>\n",
       "      <td>652.0</td>\n",
       "      <td>1361762.0</td>\n",
       "      <td>2.082003e+14</td>\n",
       "      <td>3.376063e+10</td>\n",
       "      <td>3.528151e+13</td>\n",
       "      <td>D42335A</td>\n",
       "      <td>...</td>\n",
       "      <td>1.972566e+07</td>\n",
       "      <td>1.469958e+07</td>\n",
       "      <td>1.758779e+07</td>\n",
       "      <td>6.163408e+06</td>\n",
       "      <td>2.295846e+08</td>\n",
       "      <td>3.956300e+05</td>\n",
       "      <td>4.106926e+08</td>\n",
       "      <td>4.215763e+06</td>\n",
       "      <td>27883638.0</td>\n",
       "      <td>279807335.0</td>\n",
       "    </tr>\n",
       "    <tr>\n",
       "      <th>3</th>\n",
       "      <td>13114483485442799616</td>\n",
       "      <td>2019-04-10 00:31:25</td>\n",
       "      <td>486.0</td>\n",
       "      <td>2019-04-25 07:36:35</td>\n",
       "      <td>171.0</td>\n",
       "      <td>1321509.0</td>\n",
       "      <td>2.082014e+14</td>\n",
       "      <td>3.375034e+10</td>\n",
       "      <td>3.535661e+13</td>\n",
       "      <td>T21824A</td>\n",
       "      <td>...</td>\n",
       "      <td>2.138812e+07</td>\n",
       "      <td>1.514664e+07</td>\n",
       "      <td>1.399465e+07</td>\n",
       "      <td>1.097942e+06</td>\n",
       "      <td>7.995382e+08</td>\n",
       "      <td>1.084972e+07</td>\n",
       "      <td>7.490399e+08</td>\n",
       "      <td>1.279728e+07</td>\n",
       "      <td>43324218.0</td>\n",
       "      <td>846028530.0</td>\n",
       "    </tr>\n",
       "    <tr>\n",
       "      <th>4</th>\n",
       "      <td>13114483499480700928</td>\n",
       "      <td>2019-04-12 20:10:23</td>\n",
       "      <td>565.0</td>\n",
       "      <td>2019-04-25 10:40:32</td>\n",
       "      <td>954.0</td>\n",
       "      <td>1089009.0</td>\n",
       "      <td>2.082014e+14</td>\n",
       "      <td>3.369980e+10</td>\n",
       "      <td>3.540701e+13</td>\n",
       "      <td>D88865A</td>\n",
       "      <td>...</td>\n",
       "      <td>1.525938e+07</td>\n",
       "      <td>1.896287e+07</td>\n",
       "      <td>1.712458e+07</td>\n",
       "      <td>4.152180e+05</td>\n",
       "      <td>5.277072e+08</td>\n",
       "      <td>3.529801e+06</td>\n",
       "      <td>5.507095e+08</td>\n",
       "      <td>1.391032e+07</td>\n",
       "      <td>38542814.0</td>\n",
       "      <td>569138589.0</td>\n",
       "    </tr>\n",
       "    <tr>\n",
       "      <th>...</th>\n",
       "      <td>...</td>\n",
       "      <td>...</td>\n",
       "      <td>...</td>\n",
       "      <td>...</td>\n",
       "      <td>...</td>\n",
       "      <td>...</td>\n",
       "      <td>...</td>\n",
       "      <td>...</td>\n",
       "      <td>...</td>\n",
       "      <td>...</td>\n",
       "      <td>...</td>\n",
       "      <td>...</td>\n",
       "      <td>...</td>\n",
       "      <td>...</td>\n",
       "      <td>...</td>\n",
       "      <td>...</td>\n",
       "      <td>...</td>\n",
       "      <td>...</td>\n",
       "      <td>...</td>\n",
       "      <td>...</td>\n",
       "      <td>...</td>\n",
       "    </tr>\n",
       "    <tr>\n",
       "      <th>149996</th>\n",
       "      <td>7277825670196679680</td>\n",
       "      <td>2019-04-29 07:28:42</td>\n",
       "      <td>451.0</td>\n",
       "      <td>2019-04-30 06:02:33</td>\n",
       "      <td>214.0</td>\n",
       "      <td>81230.0</td>\n",
       "      <td>2.082022e+14</td>\n",
       "      <td>3.365069e+10</td>\n",
       "      <td>3.548311e+13</td>\n",
       "      <td>D20434A</td>\n",
       "      <td>...</td>\n",
       "      <td>1.619167e+07</td>\n",
       "      <td>1.176343e+07</td>\n",
       "      <td>1.788370e+07</td>\n",
       "      <td>1.967816e+07</td>\n",
       "      <td>5.266097e+08</td>\n",
       "      <td>9.197207e+06</td>\n",
       "      <td>3.264510e+06</td>\n",
       "      <td>1.348742e+07</td>\n",
       "      <td>57628851.0</td>\n",
       "      <td>574175259.0</td>\n",
       "    </tr>\n",
       "    <tr>\n",
       "      <th>149997</th>\n",
       "      <td>7349883264234609664</td>\n",
       "      <td>2019-04-29 07:28:42</td>\n",
       "      <td>483.0</td>\n",
       "      <td>2019-04-30 10:41:33</td>\n",
       "      <td>187.0</td>\n",
       "      <td>97970.0</td>\n",
       "      <td>2.082019e+14</td>\n",
       "      <td>3.366345e+10</td>\n",
       "      <td>3.566051e+13</td>\n",
       "      <td>D10223C</td>\n",
       "      <td>...</td>\n",
       "      <td>1.387723e+07</td>\n",
       "      <td>8.288284e+06</td>\n",
       "      <td>1.935015e+07</td>\n",
       "      <td>2.129315e+07</td>\n",
       "      <td>6.268931e+08</td>\n",
       "      <td>4.735033e+06</td>\n",
       "      <td>7.121804e+08</td>\n",
       "      <td>2.457758e+06</td>\n",
       "      <td>39135081.0</td>\n",
       "      <td>666648844.0</td>\n",
       "    </tr>\n",
       "    <tr>\n",
       "      <th>149998</th>\n",
       "      <td>13114483573367300096</td>\n",
       "      <td>2019-04-29 07:28:43</td>\n",
       "      <td>283.0</td>\n",
       "      <td>2019-04-30 10:46:12</td>\n",
       "      <td>810.0</td>\n",
       "      <td>98249.0</td>\n",
       "      <td>2.082017e+14</td>\n",
       "      <td>3.362189e+10</td>\n",
       "      <td>3.572121e+13</td>\n",
       "      <td>T51102A</td>\n",
       "      <td>...</td>\n",
       "      <td>2.266051e+07</td>\n",
       "      <td>1.855903e+06</td>\n",
       "      <td>9.963942e+06</td>\n",
       "      <td>5.065760e+06</td>\n",
       "      <td>5.535395e+08</td>\n",
       "      <td>1.339432e+07</td>\n",
       "      <td>1.211009e+08</td>\n",
       "      <td>1.131473e+07</td>\n",
       "      <td>34912224.0</td>\n",
       "      <td>592786405.0</td>\n",
       "    </tr>\n",
       "    <tr>\n",
       "      <th>149999</th>\n",
       "      <td>13114483573367300096</td>\n",
       "      <td>2019-04-29 07:28:43</td>\n",
       "      <td>696.0</td>\n",
       "      <td>2019-04-30 10:40:34</td>\n",
       "      <td>327.0</td>\n",
       "      <td>97910.0</td>\n",
       "      <td>2.082021e+14</td>\n",
       "      <td>3.361962e+10</td>\n",
       "      <td>8.618620e+13</td>\n",
       "      <td>L88342B</td>\n",
       "      <td>...</td>\n",
       "      <td>8.817106e+06</td>\n",
       "      <td>8.305402e+06</td>\n",
       "      <td>3.322253e+06</td>\n",
       "      <td>1.317259e+07</td>\n",
       "      <td>3.525370e+08</td>\n",
       "      <td>2.529475e+06</td>\n",
       "      <td>8.147131e+08</td>\n",
       "      <td>1.406930e+06</td>\n",
       "      <td>29626096.0</td>\n",
       "      <td>371895920.0</td>\n",
       "    </tr>\n",
       "    <tr>\n",
       "      <th>150000</th>\n",
       "      <td></td>\n",
       "      <td>NaT</td>\n",
       "      <td>NaN</td>\n",
       "      <td>NaT</td>\n",
       "      <td>NaN</td>\n",
       "      <td>NaN</td>\n",
       "      <td>NaN</td>\n",
       "      <td>NaN</td>\n",
       "      <td>NaN</td>\n",
       "      <td>NaN</td>\n",
       "      <td>...</td>\n",
       "      <td>1.163407e+07</td>\n",
       "      <td>1.100941e+07</td>\n",
       "      <td>1.162685e+07</td>\n",
       "      <td>1.100175e+07</td>\n",
       "      <td>4.220447e+08</td>\n",
       "      <td>8.288398e+06</td>\n",
       "      <td>4.211005e+08</td>\n",
       "      <td>8.264799e+06</td>\n",
       "      <td>NaN</td>\n",
       "      <td>NaN</td>\n",
       "    </tr>\n",
       "  </tbody>\n",
       "</table>\n",
       "<p>150001 rows × 55 columns</p>\n",
       "</div>"
      ],
      "text/plain": [
       "                   Bearer Id               Start  Start ms  \\\n",
       "0       13114483460844900352 2019-04-04 12:01:18     770.0   \n",
       "1       13114483482878900224 2019-04-09 13:04:04     235.0   \n",
       "2       13114483484080500736 2019-04-09 17:42:11       1.0   \n",
       "3       13114483485442799616 2019-04-10 00:31:25     486.0   \n",
       "4       13114483499480700928 2019-04-12 20:10:23     565.0   \n",
       "...                      ...                 ...       ...   \n",
       "149996   7277825670196679680 2019-04-29 07:28:42     451.0   \n",
       "149997   7349883264234609664 2019-04-29 07:28:42     483.0   \n",
       "149998  13114483573367300096 2019-04-29 07:28:43     283.0   \n",
       "149999  13114483573367300096 2019-04-29 07:28:43     696.0   \n",
       "150000                                       NaT       NaN   \n",
       "\n",
       "                       End  End ms  Dur. (ms)          IMSI  MSISDN/Number  \\\n",
       "0      2019-04-25 14:35:31   662.0  1823652.0  2.082014e+14   3.366496e+10   \n",
       "1      2019-04-25 08:15:48   606.0  1365104.0  2.082019e+14   3.368185e+10   \n",
       "2      2019-04-25 11:58:13   652.0  1361762.0  2.082003e+14   3.376063e+10   \n",
       "3      2019-04-25 07:36:35   171.0  1321509.0  2.082014e+14   3.375034e+10   \n",
       "4      2019-04-25 10:40:32   954.0  1089009.0  2.082014e+14   3.369980e+10   \n",
       "...                    ...     ...        ...           ...            ...   \n",
       "149996 2019-04-30 06:02:33   214.0    81230.0  2.082022e+14   3.365069e+10   \n",
       "149997 2019-04-30 10:41:33   187.0    97970.0  2.082019e+14   3.366345e+10   \n",
       "149998 2019-04-30 10:46:12   810.0    98249.0  2.082017e+14   3.362189e+10   \n",
       "149999 2019-04-30 10:40:34   327.0    97910.0  2.082021e+14   3.361962e+10   \n",
       "150000                 NaT     NaN        NaN           NaN            NaN   \n",
       "\n",
       "                IMEI Last Location Name  ...  Youtube DL (Bytes)  \\\n",
       "0       3.552121e+13   9164566995485190  ...        1.585461e+07   \n",
       "1       3.579401e+13            L77566A  ...        2.024740e+07   \n",
       "2       3.528151e+13            D42335A  ...        1.972566e+07   \n",
       "3       3.535661e+13            T21824A  ...        2.138812e+07   \n",
       "4       3.540701e+13            D88865A  ...        1.525938e+07   \n",
       "...              ...                ...  ...                 ...   \n",
       "149996  3.548311e+13            D20434A  ...        1.619167e+07   \n",
       "149997  3.566051e+13            D10223C  ...        1.387723e+07   \n",
       "149998  3.572121e+13            T51102A  ...        2.266051e+07   \n",
       "149999  8.618620e+13            L88342B  ...        8.817106e+06   \n",
       "150000           NaN                NaN  ...        1.163407e+07   \n",
       "\n",
       "        Youtube UL (Bytes)  Netflix DL (Bytes)  Netflix UL (Bytes)  \\\n",
       "0             2.501332e+06        8.198936e+06        9.656251e+06   \n",
       "1             1.911173e+07        1.833841e+07        1.722713e+07   \n",
       "2             1.469958e+07        1.758779e+07        6.163408e+06   \n",
       "3             1.514664e+07        1.399465e+07        1.097942e+06   \n",
       "4             1.896287e+07        1.712458e+07        4.152180e+05   \n",
       "...                    ...                 ...                 ...   \n",
       "149996        1.176343e+07        1.788370e+07        1.967816e+07   \n",
       "149997        8.288284e+06        1.935015e+07        2.129315e+07   \n",
       "149998        1.855903e+06        9.963942e+06        5.065760e+06   \n",
       "149999        8.305402e+06        3.322253e+06        1.317259e+07   \n",
       "150000        1.100941e+07        1.162685e+07        1.100175e+07   \n",
       "\n",
       "        Gaming DL (Bytes)  Gaming UL (Bytes)  Other DL (Bytes)  \\\n",
       "0            2.780823e+08       1.434415e+07      1.717444e+08   \n",
       "1            6.087501e+08       1.170709e+06      5.269042e+08   \n",
       "2            2.295846e+08       3.956300e+05      4.106926e+08   \n",
       "3            7.995382e+08       1.084972e+07      7.490399e+08   \n",
       "4            5.277072e+08       3.529801e+06      5.507095e+08   \n",
       "...                   ...                ...               ...   \n",
       "149996       5.266097e+08       9.197207e+06      3.264510e+06   \n",
       "149997       6.268931e+08       4.735033e+06      7.121804e+08   \n",
       "149998       5.535395e+08       1.339432e+07      1.211009e+08   \n",
       "149999       3.525370e+08       2.529475e+06      8.147131e+08   \n",
       "150000       4.220447e+08       8.288398e+06      4.211005e+08   \n",
       "\n",
       "        Other UL (Bytes)  Total UL (Bytes)  Total DL (Bytes)  \n",
       "0           8.814393e+06        36749741.0       308879636.0  \n",
       "1           1.505514e+07        53800391.0       653384965.0  \n",
       "2           4.215763e+06        27883638.0       279807335.0  \n",
       "3           1.279728e+07        43324218.0       846028530.0  \n",
       "4           1.391032e+07        38542814.0       569138589.0  \n",
       "...                  ...               ...               ...  \n",
       "149996      1.348742e+07        57628851.0       574175259.0  \n",
       "149997      2.457758e+06        39135081.0       666648844.0  \n",
       "149998      1.131473e+07        34912224.0       592786405.0  \n",
       "149999      1.406930e+06        29626096.0       371895920.0  \n",
       "150000      8.264799e+06               NaN               NaN  \n",
       "\n",
       "[150001 rows x 55 columns]"
      ]
     },
     "execution_count": 5,
     "metadata": {},
     "output_type": "execute_result"
    }
   ],
   "source": [
    "sa=pd.read_excel(\"telcom_data.xlsx\")\n",
    "sa"
   ]
  },
  {
   "cell_type": "code",
   "execution_count": 6,
   "metadata": {},
   "outputs": [
    {
     "data": {
      "text/html": [
       "<div>\n",
       "<style scoped>\n",
       "    .dataframe tbody tr th:only-of-type {\n",
       "        vertical-align: middle;\n",
       "    }\n",
       "\n",
       "    .dataframe tbody tr th {\n",
       "        vertical-align: top;\n",
       "    }\n",
       "\n",
       "    .dataframe thead th {\n",
       "        text-align: right;\n",
       "    }\n",
       "</style>\n",
       "<table border=\"1\" class=\"dataframe\">\n",
       "  <thead>\n",
       "    <tr style=\"text-align: right;\">\n",
       "      <th></th>\n",
       "      <th>MSISDN/Number</th>\n",
       "      <th>Session Frequency</th>\n",
       "      <th>Total Duration</th>\n",
       "      <th>Total DL</th>\n",
       "      <th>Total UL</th>\n",
       "    </tr>\n",
       "  </thead>\n",
       "  <tbody>\n",
       "    <tr>\n",
       "      <th>0</th>\n",
       "      <td>3.360100e+10</td>\n",
       "      <td>1</td>\n",
       "      <td>116720.0</td>\n",
       "      <td>8.426375e+08</td>\n",
       "      <td>36053108.0</td>\n",
       "    </tr>\n",
       "    <tr>\n",
       "      <th>1</th>\n",
       "      <td>3.360100e+10</td>\n",
       "      <td>1</td>\n",
       "      <td>181230.0</td>\n",
       "      <td>1.207552e+08</td>\n",
       "      <td>36104459.0</td>\n",
       "    </tr>\n",
       "    <tr>\n",
       "      <th>2</th>\n",
       "      <td>3.360100e+10</td>\n",
       "      <td>1</td>\n",
       "      <td>134969.0</td>\n",
       "      <td>5.566597e+08</td>\n",
       "      <td>39306820.0</td>\n",
       "    </tr>\n",
       "    <tr>\n",
       "      <th>3</th>\n",
       "      <td>3.360101e+10</td>\n",
       "      <td>1</td>\n",
       "      <td>49878.0</td>\n",
       "      <td>4.019932e+08</td>\n",
       "      <td>20327526.0</td>\n",
       "    </tr>\n",
       "    <tr>\n",
       "      <th>4</th>\n",
       "      <td>3.360101e+10</td>\n",
       "      <td>2</td>\n",
       "      <td>37104.0</td>\n",
       "      <td>1.363130e+09</td>\n",
       "      <td>94280527.0</td>\n",
       "    </tr>\n",
       "    <tr>\n",
       "      <th>...</th>\n",
       "      <td>...</td>\n",
       "      <td>...</td>\n",
       "      <td>...</td>\n",
       "      <td>...</td>\n",
       "      <td>...</td>\n",
       "    </tr>\n",
       "    <tr>\n",
       "      <th>106851</th>\n",
       "      <td>3.379000e+10</td>\n",
       "      <td>1</td>\n",
       "      <td>8810.0</td>\n",
       "      <td>6.879252e+08</td>\n",
       "      <td>26716429.0</td>\n",
       "    </tr>\n",
       "    <tr>\n",
       "      <th>106852</th>\n",
       "      <td>3.379000e+10</td>\n",
       "      <td>1</td>\n",
       "      <td>140988.0</td>\n",
       "      <td>4.445751e+08</td>\n",
       "      <td>35732243.0</td>\n",
       "    </tr>\n",
       "    <tr>\n",
       "      <th>106853</th>\n",
       "      <td>3.197021e+12</td>\n",
       "      <td>1</td>\n",
       "      <td>877385.0</td>\n",
       "      <td>1.948281e+08</td>\n",
       "      <td>37295915.0</td>\n",
       "    </tr>\n",
       "    <tr>\n",
       "      <th>106854</th>\n",
       "      <td>3.370000e+14</td>\n",
       "      <td>1</td>\n",
       "      <td>253030.0</td>\n",
       "      <td>5.396350e+08</td>\n",
       "      <td>56652839.0</td>\n",
       "    </tr>\n",
       "    <tr>\n",
       "      <th>106855</th>\n",
       "      <td>8.823971e+14</td>\n",
       "      <td>1</td>\n",
       "      <td>869844.0</td>\n",
       "      <td>7.869760e+07</td>\n",
       "      <td>60456049.0</td>\n",
       "    </tr>\n",
       "  </tbody>\n",
       "</table>\n",
       "<p>106856 rows × 5 columns</p>\n",
       "</div>"
      ],
      "text/plain": [
       "        MSISDN/Number  Session Frequency  Total Duration      Total DL  \\\n",
       "0        3.360100e+10                  1        116720.0  8.426375e+08   \n",
       "1        3.360100e+10                  1        181230.0  1.207552e+08   \n",
       "2        3.360100e+10                  1        134969.0  5.566597e+08   \n",
       "3        3.360101e+10                  1         49878.0  4.019932e+08   \n",
       "4        3.360101e+10                  2         37104.0  1.363130e+09   \n",
       "...               ...                ...             ...           ...   \n",
       "106851   3.379000e+10                  1          8810.0  6.879252e+08   \n",
       "106852   3.379000e+10                  1        140988.0  4.445751e+08   \n",
       "106853   3.197021e+12                  1        877385.0  1.948281e+08   \n",
       "106854   3.370000e+14                  1        253030.0  5.396350e+08   \n",
       "106855   8.823971e+14                  1        869844.0  7.869760e+07   \n",
       "\n",
       "          Total UL  \n",
       "0       36053108.0  \n",
       "1       36104459.0  \n",
       "2       39306820.0  \n",
       "3       20327526.0  \n",
       "4       94280527.0  \n",
       "...            ...  \n",
       "106851  26716429.0  \n",
       "106852  35732243.0  \n",
       "106853  37295915.0  \n",
       "106854  56652839.0  \n",
       "106855  60456049.0  \n",
       "\n",
       "[106856 rows x 5 columns]"
      ]
     },
     "execution_count": 6,
     "metadata": {},
     "output_type": "execute_result"
    }
   ],
   "source": [
    "engagement_metrics= sa.groupby('MSISDN/Number').agg({\n",
    "    'Dur. (ms)': ['count', 'sum'],  \n",
    "    'Total DL (Bytes)': 'sum',\n",
    "    'Total UL (Bytes)': 'sum'\n",
    "}).reset_index()\n",
    "\n",
    "engagement_metrics.columns = ['MSISDN/Number', 'Session Frequency', 'Total Duration', 'Total DL','Total UL']\n",
    "engagement_metrics"
   ]
  },
  {
   "cell_type": "code",
   "execution_count": 7,
   "metadata": {},
   "outputs": [
    {
     "data": {
      "text/html": [
       "<div>\n",
       "<style scoped>\n",
       "    .dataframe tbody tr th:only-of-type {\n",
       "        vertical-align: middle;\n",
       "    }\n",
       "\n",
       "    .dataframe tbody tr th {\n",
       "        vertical-align: top;\n",
       "    }\n",
       "\n",
       "    .dataframe thead th {\n",
       "        text-align: right;\n",
       "    }\n",
       "</style>\n",
       "<table border=\"1\" class=\"dataframe\">\n",
       "  <thead>\n",
       "    <tr style=\"text-align: right;\">\n",
       "      <th></th>\n",
       "      <th>MSISDN/Number</th>\n",
       "      <th>TCP DL Retrans. Vol (Bytes)</th>\n",
       "      <th>TCP UL Retrans. Vol (Bytes)</th>\n",
       "      <th>Avg RTT DL (ms)</th>\n",
       "      <th>Avg RTT UL (ms)</th>\n",
       "      <th>Handset Type</th>\n",
       "      <th>Avg Bearer TP DL (kbps)</th>\n",
       "      <th>Avg Bearer TP UL (kbps)</th>\n",
       "    </tr>\n",
       "  </thead>\n",
       "  <tbody>\n",
       "    <tr>\n",
       "      <th>0</th>\n",
       "      <td>3.360100e+10</td>\n",
       "      <td>0.0</td>\n",
       "      <td>0.0</td>\n",
       "      <td>46.0</td>\n",
       "      <td>0.0</td>\n",
       "      <td>Huawei P20 Lite Huawei Nova 3E</td>\n",
       "      <td>37.0</td>\n",
       "      <td>39.0</td>\n",
       "    </tr>\n",
       "    <tr>\n",
       "      <th>1</th>\n",
       "      <td>3.360100e+10</td>\n",
       "      <td>0.0</td>\n",
       "      <td>0.0</td>\n",
       "      <td>30.0</td>\n",
       "      <td>1.0</td>\n",
       "      <td>Apple iPhone 7 (A1778)</td>\n",
       "      <td>48.0</td>\n",
       "      <td>51.0</td>\n",
       "    </tr>\n",
       "    <tr>\n",
       "      <th>2</th>\n",
       "      <td>3.360100e+10</td>\n",
       "      <td>0.0</td>\n",
       "      <td>0.0</td>\n",
       "      <td>NaN</td>\n",
       "      <td>NaN</td>\n",
       "      <td>undefined</td>\n",
       "      <td>48.0</td>\n",
       "      <td>49.0</td>\n",
       "    </tr>\n",
       "    <tr>\n",
       "      <th>3</th>\n",
       "      <td>3.360101e+10</td>\n",
       "      <td>1066.0</td>\n",
       "      <td>0.0</td>\n",
       "      <td>69.0</td>\n",
       "      <td>15.0</td>\n",
       "      <td>Apple iPhone 5S (A1457)</td>\n",
       "      <td>204.0</td>\n",
       "      <td>44.0</td>\n",
       "    </tr>\n",
       "    <tr>\n",
       "      <th>4</th>\n",
       "      <td>3.360101e+10</td>\n",
       "      <td>9349630.0</td>\n",
       "      <td>21202.0</td>\n",
       "      <td>57.0</td>\n",
       "      <td>2.5</td>\n",
       "      <td>Apple iPhone Se (A1723)</td>\n",
       "      <td>20197.5</td>\n",
       "      <td>8224.5</td>\n",
       "    </tr>\n",
       "    <tr>\n",
       "      <th>...</th>\n",
       "      <td>...</td>\n",
       "      <td>...</td>\n",
       "      <td>...</td>\n",
       "      <td>...</td>\n",
       "      <td>...</td>\n",
       "      <td>...</td>\n",
       "      <td>...</td>\n",
       "      <td>...</td>\n",
       "    </tr>\n",
       "    <tr>\n",
       "      <th>106851</th>\n",
       "      <td>3.379000e+10</td>\n",
       "      <td>215044.0</td>\n",
       "      <td>3001.0</td>\n",
       "      <td>42.0</td>\n",
       "      <td>10.0</td>\n",
       "      <td>Huawei Honor 9 Lite</td>\n",
       "      <td>9978.0</td>\n",
       "      <td>387.0</td>\n",
       "    </tr>\n",
       "    <tr>\n",
       "      <th>106852</th>\n",
       "      <td>3.379000e+10</td>\n",
       "      <td>0.0</td>\n",
       "      <td>0.0</td>\n",
       "      <td>34.0</td>\n",
       "      <td>6.0</td>\n",
       "      <td>Apple iPhone 8 Plus (A1897)</td>\n",
       "      <td>68.0</td>\n",
       "      <td>48.0</td>\n",
       "    </tr>\n",
       "    <tr>\n",
       "      <th>106853</th>\n",
       "      <td>3.197021e+12</td>\n",
       "      <td>0.0</td>\n",
       "      <td>0.0</td>\n",
       "      <td>NaN</td>\n",
       "      <td>NaN</td>\n",
       "      <td>Quectel Wireless. Quectel Ec25-E</td>\n",
       "      <td>1.0</td>\n",
       "      <td>0.0</td>\n",
       "    </tr>\n",
       "    <tr>\n",
       "      <th>106854</th>\n",
       "      <td>3.370000e+14</td>\n",
       "      <td>0.0</td>\n",
       "      <td>0.0</td>\n",
       "      <td>NaN</td>\n",
       "      <td>NaN</td>\n",
       "      <td>Huawei B525S-23A</td>\n",
       "      <td>11.0</td>\n",
       "      <td>22.0</td>\n",
       "    </tr>\n",
       "    <tr>\n",
       "      <th>106855</th>\n",
       "      <td>8.823971e+14</td>\n",
       "      <td>0.0</td>\n",
       "      <td>0.0</td>\n",
       "      <td>NaN</td>\n",
       "      <td>NaN</td>\n",
       "      <td>Quectel Wireless. Quectel Ec21-E</td>\n",
       "      <td>2.0</td>\n",
       "      <td>0.0</td>\n",
       "    </tr>\n",
       "  </tbody>\n",
       "</table>\n",
       "<p>106856 rows × 8 columns</p>\n",
       "</div>"
      ],
      "text/plain": [
       "        MSISDN/Number  TCP DL Retrans. Vol (Bytes)  \\\n",
       "0        3.360100e+10                          0.0   \n",
       "1        3.360100e+10                          0.0   \n",
       "2        3.360100e+10                          0.0   \n",
       "3        3.360101e+10                       1066.0   \n",
       "4        3.360101e+10                    9349630.0   \n",
       "...               ...                          ...   \n",
       "106851   3.379000e+10                     215044.0   \n",
       "106852   3.379000e+10                          0.0   \n",
       "106853   3.197021e+12                          0.0   \n",
       "106854   3.370000e+14                          0.0   \n",
       "106855   8.823971e+14                          0.0   \n",
       "\n",
       "        TCP UL Retrans. Vol (Bytes)  Avg RTT DL (ms)  Avg RTT UL (ms)  \\\n",
       "0                               0.0             46.0              0.0   \n",
       "1                               0.0             30.0              1.0   \n",
       "2                               0.0              NaN              NaN   \n",
       "3                               0.0             69.0             15.0   \n",
       "4                           21202.0             57.0              2.5   \n",
       "...                             ...              ...              ...   \n",
       "106851                       3001.0             42.0             10.0   \n",
       "106852                          0.0             34.0              6.0   \n",
       "106853                          0.0              NaN              NaN   \n",
       "106854                          0.0              NaN              NaN   \n",
       "106855                          0.0              NaN              NaN   \n",
       "\n",
       "                            Handset Type  Avg Bearer TP DL (kbps)  \\\n",
       "0         Huawei P20 Lite Huawei Nova 3E                     37.0   \n",
       "1                 Apple iPhone 7 (A1778)                     48.0   \n",
       "2                              undefined                     48.0   \n",
       "3                Apple iPhone 5S (A1457)                    204.0   \n",
       "4                Apple iPhone Se (A1723)                  20197.5   \n",
       "...                                  ...                      ...   \n",
       "106851               Huawei Honor 9 Lite                   9978.0   \n",
       "106852       Apple iPhone 8 Plus (A1897)                     68.0   \n",
       "106853  Quectel Wireless. Quectel Ec25-E                      1.0   \n",
       "106854                  Huawei B525S-23A                     11.0   \n",
       "106855  Quectel Wireless. Quectel Ec21-E                      2.0   \n",
       "\n",
       "        Avg Bearer TP UL (kbps)  \n",
       "0                          39.0  \n",
       "1                          51.0  \n",
       "2                          49.0  \n",
       "3                          44.0  \n",
       "4                        8224.5  \n",
       "...                         ...  \n",
       "106851                    387.0  \n",
       "106852                     48.0  \n",
       "106853                      0.0  \n",
       "106854                     22.0  \n",
       "106855                      0.0  \n",
       "\n",
       "[106856 rows x 8 columns]"
      ]
     },
     "execution_count": 7,
     "metadata": {},
     "output_type": "execute_result"
    }
   ],
   "source": [
    "experience_metrics=sa.groupby('MSISDN/Number').agg({\n",
    "    'TCP DL Retrans. Vol (Bytes)':'sum',\n",
    "    'TCP UL Retrans. Vol (Bytes)':'sum',\n",
    "    'Avg RTT DL (ms)':'mean',\n",
    "    'Avg RTT UL (ms)':'mean',\n",
    "    'Handset Type':lambda x:x.mode().iloc[0],\n",
    "    'Avg Bearer TP DL (kbps)':'mean',\n",
    "    'Avg Bearer TP UL (kbps)':'mean'\n",
    "}).reset_index()\n",
    "experience_metrics"
   ]
  },
  {
   "cell_type": "markdown",
   "metadata": {},
   "source": [
    "#### Satisfaction Analysis\n",
    "\n",
    "Satisfaction analysis is like checking if customers are happy with their phone service. We ask them questions or look at their feedback to see if they're satisfied with things like call quality, internet speed, and customer support. This helps companies understand what customers like and what they need to improve to keep them happy."
   ]
  },
  {
   "cell_type": "code",
   "execution_count": 8,
   "metadata": {},
   "outputs": [
    {
     "data": {
      "text/html": [
       "<div>\n",
       "<style scoped>\n",
       "    .dataframe tbody tr th:only-of-type {\n",
       "        vertical-align: middle;\n",
       "    }\n",
       "\n",
       "    .dataframe tbody tr th {\n",
       "        vertical-align: top;\n",
       "    }\n",
       "\n",
       "    .dataframe thead th {\n",
       "        text-align: right;\n",
       "    }\n",
       "</style>\n",
       "<table border=\"1\" class=\"dataframe\">\n",
       "  <thead>\n",
       "    <tr style=\"text-align: right;\">\n",
       "      <th></th>\n",
       "      <th>MSISDN/Number</th>\n",
       "      <th>Session Frequency</th>\n",
       "      <th>Total Duration</th>\n",
       "      <th>Total DL</th>\n",
       "      <th>Total UL</th>\n",
       "      <th>TCP DL Retrans. Vol (Bytes)</th>\n",
       "      <th>TCP UL Retrans. Vol (Bytes)</th>\n",
       "      <th>Avg RTT DL (ms)</th>\n",
       "      <th>Avg RTT UL (ms)</th>\n",
       "      <th>Handset Type</th>\n",
       "      <th>Avg Bearer TP DL (kbps)</th>\n",
       "      <th>Avg Bearer TP UL (kbps)</th>\n",
       "    </tr>\n",
       "  </thead>\n",
       "  <tbody>\n",
       "    <tr>\n",
       "      <th>0</th>\n",
       "      <td>3.360100e+10</td>\n",
       "      <td>1</td>\n",
       "      <td>116720.0</td>\n",
       "      <td>8.426375e+08</td>\n",
       "      <td>36053108.0</td>\n",
       "      <td>0.0</td>\n",
       "      <td>0.0</td>\n",
       "      <td>46.0</td>\n",
       "      <td>0.0</td>\n",
       "      <td>Huawei P20 Lite Huawei Nova 3E</td>\n",
       "      <td>37.0</td>\n",
       "      <td>39.0</td>\n",
       "    </tr>\n",
       "    <tr>\n",
       "      <th>1</th>\n",
       "      <td>3.360100e+10</td>\n",
       "      <td>1</td>\n",
       "      <td>181230.0</td>\n",
       "      <td>1.207552e+08</td>\n",
       "      <td>36104459.0</td>\n",
       "      <td>0.0</td>\n",
       "      <td>0.0</td>\n",
       "      <td>30.0</td>\n",
       "      <td>1.0</td>\n",
       "      <td>Apple iPhone 7 (A1778)</td>\n",
       "      <td>48.0</td>\n",
       "      <td>51.0</td>\n",
       "    </tr>\n",
       "    <tr>\n",
       "      <th>2</th>\n",
       "      <td>3.360100e+10</td>\n",
       "      <td>1</td>\n",
       "      <td>134969.0</td>\n",
       "      <td>5.566597e+08</td>\n",
       "      <td>39306820.0</td>\n",
       "      <td>0.0</td>\n",
       "      <td>0.0</td>\n",
       "      <td>NaN</td>\n",
       "      <td>NaN</td>\n",
       "      <td>undefined</td>\n",
       "      <td>48.0</td>\n",
       "      <td>49.0</td>\n",
       "    </tr>\n",
       "    <tr>\n",
       "      <th>3</th>\n",
       "      <td>3.360101e+10</td>\n",
       "      <td>1</td>\n",
       "      <td>49878.0</td>\n",
       "      <td>4.019932e+08</td>\n",
       "      <td>20327526.0</td>\n",
       "      <td>1066.0</td>\n",
       "      <td>0.0</td>\n",
       "      <td>69.0</td>\n",
       "      <td>15.0</td>\n",
       "      <td>Apple iPhone 5S (A1457)</td>\n",
       "      <td>204.0</td>\n",
       "      <td>44.0</td>\n",
       "    </tr>\n",
       "    <tr>\n",
       "      <th>4</th>\n",
       "      <td>3.360101e+10</td>\n",
       "      <td>2</td>\n",
       "      <td>37104.0</td>\n",
       "      <td>1.363130e+09</td>\n",
       "      <td>94280527.0</td>\n",
       "      <td>9349630.0</td>\n",
       "      <td>21202.0</td>\n",
       "      <td>57.0</td>\n",
       "      <td>2.5</td>\n",
       "      <td>Apple iPhone Se (A1723)</td>\n",
       "      <td>20197.5</td>\n",
       "      <td>8224.5</td>\n",
       "    </tr>\n",
       "    <tr>\n",
       "      <th>...</th>\n",
       "      <td>...</td>\n",
       "      <td>...</td>\n",
       "      <td>...</td>\n",
       "      <td>...</td>\n",
       "      <td>...</td>\n",
       "      <td>...</td>\n",
       "      <td>...</td>\n",
       "      <td>...</td>\n",
       "      <td>...</td>\n",
       "      <td>...</td>\n",
       "      <td>...</td>\n",
       "      <td>...</td>\n",
       "    </tr>\n",
       "    <tr>\n",
       "      <th>106851</th>\n",
       "      <td>3.379000e+10</td>\n",
       "      <td>1</td>\n",
       "      <td>8810.0</td>\n",
       "      <td>6.879252e+08</td>\n",
       "      <td>26716429.0</td>\n",
       "      <td>215044.0</td>\n",
       "      <td>3001.0</td>\n",
       "      <td>42.0</td>\n",
       "      <td>10.0</td>\n",
       "      <td>Huawei Honor 9 Lite</td>\n",
       "      <td>9978.0</td>\n",
       "      <td>387.0</td>\n",
       "    </tr>\n",
       "    <tr>\n",
       "      <th>106852</th>\n",
       "      <td>3.379000e+10</td>\n",
       "      <td>1</td>\n",
       "      <td>140988.0</td>\n",
       "      <td>4.445751e+08</td>\n",
       "      <td>35732243.0</td>\n",
       "      <td>0.0</td>\n",
       "      <td>0.0</td>\n",
       "      <td>34.0</td>\n",
       "      <td>6.0</td>\n",
       "      <td>Apple iPhone 8 Plus (A1897)</td>\n",
       "      <td>68.0</td>\n",
       "      <td>48.0</td>\n",
       "    </tr>\n",
       "    <tr>\n",
       "      <th>106853</th>\n",
       "      <td>3.197021e+12</td>\n",
       "      <td>1</td>\n",
       "      <td>877385.0</td>\n",
       "      <td>1.948281e+08</td>\n",
       "      <td>37295915.0</td>\n",
       "      <td>0.0</td>\n",
       "      <td>0.0</td>\n",
       "      <td>NaN</td>\n",
       "      <td>NaN</td>\n",
       "      <td>Quectel Wireless. Quectel Ec25-E</td>\n",
       "      <td>1.0</td>\n",
       "      <td>0.0</td>\n",
       "    </tr>\n",
       "    <tr>\n",
       "      <th>106854</th>\n",
       "      <td>3.370000e+14</td>\n",
       "      <td>1</td>\n",
       "      <td>253030.0</td>\n",
       "      <td>5.396350e+08</td>\n",
       "      <td>56652839.0</td>\n",
       "      <td>0.0</td>\n",
       "      <td>0.0</td>\n",
       "      <td>NaN</td>\n",
       "      <td>NaN</td>\n",
       "      <td>Huawei B525S-23A</td>\n",
       "      <td>11.0</td>\n",
       "      <td>22.0</td>\n",
       "    </tr>\n",
       "    <tr>\n",
       "      <th>106855</th>\n",
       "      <td>8.823971e+14</td>\n",
       "      <td>1</td>\n",
       "      <td>869844.0</td>\n",
       "      <td>7.869760e+07</td>\n",
       "      <td>60456049.0</td>\n",
       "      <td>0.0</td>\n",
       "      <td>0.0</td>\n",
       "      <td>NaN</td>\n",
       "      <td>NaN</td>\n",
       "      <td>Quectel Wireless. Quectel Ec21-E</td>\n",
       "      <td>2.0</td>\n",
       "      <td>0.0</td>\n",
       "    </tr>\n",
       "  </tbody>\n",
       "</table>\n",
       "<p>106856 rows × 12 columns</p>\n",
       "</div>"
      ],
      "text/plain": [
       "        MSISDN/Number  Session Frequency  Total Duration      Total DL  \\\n",
       "0        3.360100e+10                  1        116720.0  8.426375e+08   \n",
       "1        3.360100e+10                  1        181230.0  1.207552e+08   \n",
       "2        3.360100e+10                  1        134969.0  5.566597e+08   \n",
       "3        3.360101e+10                  1         49878.0  4.019932e+08   \n",
       "4        3.360101e+10                  2         37104.0  1.363130e+09   \n",
       "...               ...                ...             ...           ...   \n",
       "106851   3.379000e+10                  1          8810.0  6.879252e+08   \n",
       "106852   3.379000e+10                  1        140988.0  4.445751e+08   \n",
       "106853   3.197021e+12                  1        877385.0  1.948281e+08   \n",
       "106854   3.370000e+14                  1        253030.0  5.396350e+08   \n",
       "106855   8.823971e+14                  1        869844.0  7.869760e+07   \n",
       "\n",
       "          Total UL  TCP DL Retrans. Vol (Bytes)  TCP UL Retrans. Vol (Bytes)  \\\n",
       "0       36053108.0                          0.0                          0.0   \n",
       "1       36104459.0                          0.0                          0.0   \n",
       "2       39306820.0                          0.0                          0.0   \n",
       "3       20327526.0                       1066.0                          0.0   \n",
       "4       94280527.0                    9349630.0                      21202.0   \n",
       "...            ...                          ...                          ...   \n",
       "106851  26716429.0                     215044.0                       3001.0   \n",
       "106852  35732243.0                          0.0                          0.0   \n",
       "106853  37295915.0                          0.0                          0.0   \n",
       "106854  56652839.0                          0.0                          0.0   \n",
       "106855  60456049.0                          0.0                          0.0   \n",
       "\n",
       "        Avg RTT DL (ms)  Avg RTT UL (ms)                      Handset Type  \\\n",
       "0                  46.0              0.0    Huawei P20 Lite Huawei Nova 3E   \n",
       "1                  30.0              1.0            Apple iPhone 7 (A1778)   \n",
       "2                   NaN              NaN                         undefined   \n",
       "3                  69.0             15.0           Apple iPhone 5S (A1457)   \n",
       "4                  57.0              2.5           Apple iPhone Se (A1723)   \n",
       "...                 ...              ...                               ...   \n",
       "106851             42.0             10.0               Huawei Honor 9 Lite   \n",
       "106852             34.0              6.0       Apple iPhone 8 Plus (A1897)   \n",
       "106853              NaN              NaN  Quectel Wireless. Quectel Ec25-E   \n",
       "106854              NaN              NaN                  Huawei B525S-23A   \n",
       "106855              NaN              NaN  Quectel Wireless. Quectel Ec21-E   \n",
       "\n",
       "        Avg Bearer TP DL (kbps)  Avg Bearer TP UL (kbps)  \n",
       "0                          37.0                     39.0  \n",
       "1                          48.0                     51.0  \n",
       "2                          48.0                     49.0  \n",
       "3                         204.0                     44.0  \n",
       "4                       20197.5                   8224.5  \n",
       "...                         ...                      ...  \n",
       "106851                   9978.0                    387.0  \n",
       "106852                     68.0                     48.0  \n",
       "106853                      1.0                      0.0  \n",
       "106854                     11.0                     22.0  \n",
       "106855                      2.0                      0.0  \n",
       "\n",
       "[106856 rows x 12 columns]"
      ]
     },
     "execution_count": 8,
     "metadata": {},
     "output_type": "execute_result"
    }
   ],
   "source": [
    "satisfaction_analysis = pd.merge(engagement_metrics, experience_metrics)\n",
    "satisfaction_analysis"
   ]
  },
  {
   "cell_type": "code",
   "execution_count": 9,
   "metadata": {},
   "outputs": [
    {
     "name": "stdout",
     "output_type": "stream",
     "text": [
      "<class 'pandas.core.frame.DataFrame'>\n",
      "Int64Index: 106856 entries, 0 to 106855\n",
      "Data columns (total 12 columns):\n",
      " #   Column                       Non-Null Count   Dtype  \n",
      "---  ------                       --------------   -----  \n",
      " 0   MSISDN/Number                106856 non-null  float64\n",
      " 1   Session Frequency            106856 non-null  int64  \n",
      " 2   Total Duration               106856 non-null  float64\n",
      " 3   Total DL                     106856 non-null  float64\n",
      " 4   Total UL                     106856 non-null  float64\n",
      " 5   TCP DL Retrans. Vol (Bytes)  106856 non-null  float64\n",
      " 6   TCP UL Retrans. Vol (Bytes)  106856 non-null  float64\n",
      " 7   Avg RTT DL (ms)              88320 non-null   float64\n",
      " 8   Avg RTT UL (ms)              88333 non-null   float64\n",
      " 9   Handset Type                 106856 non-null  object \n",
      " 10  Avg Bearer TP DL (kbps)      106856 non-null  float64\n",
      " 11  Avg Bearer TP UL (kbps)      106856 non-null  float64\n",
      "dtypes: float64(10), int64(1), object(1)\n",
      "memory usage: 10.6+ MB\n"
     ]
    }
   ],
   "source": [
    "satisfaction_analysis.info()"
   ]
  },
  {
   "cell_type": "code",
   "execution_count": 10,
   "metadata": {},
   "outputs": [
    {
     "data": {
      "text/plain": [
       "MSISDN/Number                      0\n",
       "Session Frequency                  0\n",
       "Total Duration                     0\n",
       "Total DL                           0\n",
       "Total UL                           0\n",
       "TCP DL Retrans. Vol (Bytes)        0\n",
       "TCP UL Retrans. Vol (Bytes)        0\n",
       "Avg RTT DL (ms)                18536\n",
       "Avg RTT UL (ms)                18523\n",
       "Handset Type                       0\n",
       "Avg Bearer TP DL (kbps)            0\n",
       "Avg Bearer TP UL (kbps)            0\n",
       "dtype: int64"
      ]
     },
     "execution_count": 10,
     "metadata": {},
     "output_type": "execute_result"
    }
   ],
   "source": [
    "satisfaction_analysis.isnull().sum()"
   ]
  },
  {
   "cell_type": "code",
   "execution_count": 11,
   "metadata": {},
   "outputs": [
    {
     "name": "stderr",
     "output_type": "stream",
     "text": [
      "C:\\Users\\pooji\\AppData\\Local\\Temp\\ipykernel_21828\\1784431782.py:1: FutureWarning: The default value of numeric_only in DataFrame.mean is deprecated. In a future version, it will default to False. In addition, specifying 'numeric_only=None' is deprecated. Select only valid columns or specify the value of numeric_only to silence this warning.\n",
      "  satisfaction_analysis = satisfaction_analysis.fillna(satisfaction_analysis.mean())\n"
     ]
    }
   ],
   "source": [
    "satisfaction_analysis = satisfaction_analysis.fillna(satisfaction_analysis.mean())"
   ]
  },
  {
   "cell_type": "code",
   "execution_count": 12,
   "metadata": {},
   "outputs": [
    {
     "data": {
      "text/plain": [
       "MSISDN/Number                  0\n",
       "Session Frequency              0\n",
       "Total Duration                 0\n",
       "Total DL                       0\n",
       "Total UL                       0\n",
       "TCP DL Retrans. Vol (Bytes)    0\n",
       "TCP UL Retrans. Vol (Bytes)    0\n",
       "Avg RTT DL (ms)                0\n",
       "Avg RTT UL (ms)                0\n",
       "Handset Type                   0\n",
       "Avg Bearer TP DL (kbps)        0\n",
       "Avg Bearer TP UL (kbps)        0\n",
       "dtype: int64"
      ]
     },
     "execution_count": 12,
     "metadata": {},
     "output_type": "execute_result"
    }
   ],
   "source": [
    "satisfaction_analysis.isnull().sum()"
   ]
  },
  {
   "cell_type": "markdown",
   "metadata": {},
   "source": [
    "#### K Mean Cluster for Engagement Metrics"
   ]
  },
  {
   "cell_type": "code",
   "execution_count": 13,
   "metadata": {},
   "outputs": [
    {
     "name": "stderr",
     "output_type": "stream",
     "text": [
      "c:\\Users\\pooji\\anaconda3\\lib\\site-packages\\sklearn\\cluster\\_kmeans.py:870: FutureWarning: The default value of `n_init` will change from 10 to 'auto' in 1.4. Set the value of `n_init` explicitly to suppress the warning\n",
      "  warnings.warn(\n"
     ]
    }
   ],
   "source": [
    "from sklearn.cluster import KMeans\n",
    "\n",
    "kmeans = KMeans(n_clusters=2, random_state=42)  \n",
    "engagement_metrics['Cluster'] = kmeans.fit_predict(engagement_metrics[['Session Frequency', 'Total Duration', 'Total DL', 'Total UL']])"
   ]
  },
  {
   "cell_type": "code",
   "execution_count": 14,
   "metadata": {},
   "outputs": [
    {
     "data": {
      "text/html": [
       "<style>#sk-container-id-1 {color: black;background-color: white;}#sk-container-id-1 pre{padding: 0;}#sk-container-id-1 div.sk-toggleable {background-color: white;}#sk-container-id-1 label.sk-toggleable__label {cursor: pointer;display: block;width: 100%;margin-bottom: 0;padding: 0.3em;box-sizing: border-box;text-align: center;}#sk-container-id-1 label.sk-toggleable__label-arrow:before {content: \"▸\";float: left;margin-right: 0.25em;color: #696969;}#sk-container-id-1 label.sk-toggleable__label-arrow:hover:before {color: black;}#sk-container-id-1 div.sk-estimator:hover label.sk-toggleable__label-arrow:before {color: black;}#sk-container-id-1 div.sk-toggleable__content {max-height: 0;max-width: 0;overflow: hidden;text-align: left;background-color: #f0f8ff;}#sk-container-id-1 div.sk-toggleable__content pre {margin: 0.2em;color: black;border-radius: 0.25em;background-color: #f0f8ff;}#sk-container-id-1 input.sk-toggleable__control:checked~div.sk-toggleable__content {max-height: 200px;max-width: 100%;overflow: auto;}#sk-container-id-1 input.sk-toggleable__control:checked~label.sk-toggleable__label-arrow:before {content: \"▾\";}#sk-container-id-1 div.sk-estimator input.sk-toggleable__control:checked~label.sk-toggleable__label {background-color: #d4ebff;}#sk-container-id-1 div.sk-label input.sk-toggleable__control:checked~label.sk-toggleable__label {background-color: #d4ebff;}#sk-container-id-1 input.sk-hidden--visually {border: 0;clip: rect(1px 1px 1px 1px);clip: rect(1px, 1px, 1px, 1px);height: 1px;margin: -1px;overflow: hidden;padding: 0;position: absolute;width: 1px;}#sk-container-id-1 div.sk-estimator {font-family: monospace;background-color: #f0f8ff;border: 1px dotted black;border-radius: 0.25em;box-sizing: border-box;margin-bottom: 0.5em;}#sk-container-id-1 div.sk-estimator:hover {background-color: #d4ebff;}#sk-container-id-1 div.sk-parallel-item::after {content: \"\";width: 100%;border-bottom: 1px solid gray;flex-grow: 1;}#sk-container-id-1 div.sk-label:hover label.sk-toggleable__label {background-color: #d4ebff;}#sk-container-id-1 div.sk-serial::before {content: \"\";position: absolute;border-left: 1px solid gray;box-sizing: border-box;top: 0;bottom: 0;left: 50%;z-index: 0;}#sk-container-id-1 div.sk-serial {display: flex;flex-direction: column;align-items: center;background-color: white;padding-right: 0.2em;padding-left: 0.2em;position: relative;}#sk-container-id-1 div.sk-item {position: relative;z-index: 1;}#sk-container-id-1 div.sk-parallel {display: flex;align-items: stretch;justify-content: center;background-color: white;position: relative;}#sk-container-id-1 div.sk-item::before, #sk-container-id-1 div.sk-parallel-item::before {content: \"\";position: absolute;border-left: 1px solid gray;box-sizing: border-box;top: 0;bottom: 0;left: 50%;z-index: -1;}#sk-container-id-1 div.sk-parallel-item {display: flex;flex-direction: column;z-index: 1;position: relative;background-color: white;}#sk-container-id-1 div.sk-parallel-item:first-child::after {align-self: flex-end;width: 50%;}#sk-container-id-1 div.sk-parallel-item:last-child::after {align-self: flex-start;width: 50%;}#sk-container-id-1 div.sk-parallel-item:only-child::after {width: 0;}#sk-container-id-1 div.sk-dashed-wrapped {border: 1px dashed gray;margin: 0 0.4em 0.5em 0.4em;box-sizing: border-box;padding-bottom: 0.4em;background-color: white;}#sk-container-id-1 div.sk-label label {font-family: monospace;font-weight: bold;display: inline-block;line-height: 1.2em;}#sk-container-id-1 div.sk-label-container {text-align: center;}#sk-container-id-1 div.sk-container {/* jupyter's `normalize.less` sets `[hidden] { display: none; }` but bootstrap.min.css set `[hidden] { display: none !important; }` so we also need the `!important` here to be able to override the default hidden behavior on the sphinx rendered scikit-learn.org. See: https://github.com/scikit-learn/scikit-learn/issues/21755 */display: inline-block !important;position: relative;}#sk-container-id-1 div.sk-text-repr-fallback {display: none;}</style><div id=\"sk-container-id-1\" class=\"sk-top-container\"><div class=\"sk-text-repr-fallback\"><pre>KMeans(n_clusters=2, random_state=42)</pre><b>In a Jupyter environment, please rerun this cell to show the HTML representation or trust the notebook. <br />On GitHub, the HTML representation is unable to render, please try loading this page with nbviewer.org.</b></div><div class=\"sk-container\" hidden><div class=\"sk-item\"><div class=\"sk-estimator sk-toggleable\"><input class=\"sk-toggleable__control sk-hidden--visually\" id=\"sk-estimator-id-1\" type=\"checkbox\" checked><label for=\"sk-estimator-id-1\" class=\"sk-toggleable__label sk-toggleable__label-arrow\">KMeans</label><div class=\"sk-toggleable__content\"><pre>KMeans(n_clusters=2, random_state=42)</pre></div></div></div></div></div>"
      ],
      "text/plain": [
       "KMeans(n_clusters=2, random_state=42)"
      ]
     },
     "execution_count": 14,
     "metadata": {},
     "output_type": "execute_result"
    }
   ],
   "source": [
    "kmeans"
   ]
  },
  {
   "cell_type": "markdown",
   "metadata": {},
   "source": [
    "#### Scatter plot for K-Mean clustering of Engagement Metrics"
   ]
  },
  {
   "cell_type": "code",
   "execution_count": 15,
   "metadata": {},
   "outputs": [
    {
     "data": {
      "image/png": "[encoded data removed]",
      "text/plain": [
       "<Figure size 1000x600 with 1 Axes>"
      ]
     },
     "metadata": {},
     "output_type": "display_data"
    }
   ],
   "source": [
    "plt.figure(figsize=(10, 6))\n",
    "plt.scatter(engagement_metrics['Session Frequency'], engagement_metrics['Total Duration'], c=engagement_metrics['Cluster'], cmap='viridis', alpha=0.8)\n",
    "plt.title('K-Means Clustering of Engagement Metrics')\n",
    "plt.xlabel('Session Frequency')\n",
    "plt.ylabel('Total Duration')\n",
    "plt.show()"
   ]
  },
  {
   "cell_type": "markdown",
   "metadata": {},
   "source": [
    "##### Cluster Separation:\n",
    "\n",
    "* The scatter plot visually represents the distribution of customers based on their engagement metrics, specifically 'Session Frequency' and 'Total Duration'.\n",
    "* The two distinct colors (clusters) highlight the separation achieved by the K-Means algorithm.\n",
    "\n",
    "##### Cluster Characteristics:\n",
    "\n",
    "* Cluster 0 (Blue):\n",
    "\n",
    "Customers in this cluster tend to have lower 'Session Frequency' and 'Total Duration'.\n",
    "This group might comprise less active or occasional users who spend relatively less time on the network.\n",
    "\n",
    "* Cluster 1 (Yellow):\n",
    "\n",
    "Customers in this cluster exhibit higher 'Session Frequency' and 'Total Duration'.\n",
    "This cluster likely includes more active users who engage with the network frequently and have longer session durations.\n",
    "\n",
    "##### Strategic Insights:\n",
    "\n",
    "Understanding these distinct engagement patterns allows for targeted strategies based on user behavior.\n",
    "\n",
    "* Cluster 0 Targeting:\n",
    "\n",
    "Tailor marketing strategies or promotions to encourage increased session frequency and longer durations for Cluster 0.\n",
    "Explore incentives or features that might attract this group to spend more time on the network.\n",
    "\n",
    "* Cluster 1 Retention:\n",
    "\n",
    "Focus on maintaining high-quality services for Cluster 1, as they are already engaged.\n",
    "Introduce loyalty programs or personalized content to enhance their experience and encourage continued high engagement.\n",
    "\n",
    "\n",
    "#### Conclusion:\n",
    "\n",
    "* The clustering analysis reveals distinct engagement patterns among customers.\n",
    "* Tailoring business strategies based on these patterns can lead to more effective and personalized approaches, ultimately contributing to improved user satisfaction and potential revenue growth.\n",
    "* This clustering approach sets the groundwork for a more targeted and customer-centric business strategy, aligning the company's efforts with the diverse engagement behaviors observed within its user base."
   ]
  },
  {
   "cell_type": "markdown",
   "metadata": {},
   "source": [
    "#### Less Engaged Cluster"
   ]
  },
  {
   "cell_type": "code",
   "execution_count": 16,
   "metadata": {},
   "outputs": [
    {
     "data": {
      "text/plain": [
       "0"
      ]
     },
     "execution_count": 16,
     "metadata": {},
     "output_type": "execute_result"
    }
   ],
   "source": [
    "less_engaged_cluster = engagement_metrics.groupby('Cluster').mean().idxmin()['Session Frequency']\n",
    "less_engaged_cluster"
   ]
  },
  {
   "cell_type": "markdown",
   "metadata": {},
   "source": [
    "##### Interpretation and conclusion\n",
    "\n",
    "* The output zero indicates that the cluster with the lowest mean 'Session Frequency' is identified as Cluster 0. In the context of the analysis, this suggests that Cluster 0 represents the less engaged cluster based on the metric 'Session Frequency'.\n",
    "\n",
    "* This information is valuable for decision-making, as it allows you to specifically target strategies and initiatives towards increasing engagement within Cluster 0, where users have a lower frequency of sessions. By understanding the characteristics of this less engaged cluster, you can tailor interventions to boost user activity and potentially improve overall engagement metrics."
   ]
  },
  {
   "cell_type": "markdown",
   "metadata": {},
   "source": [
    "#### Calculate Euclidean distance  for each user"
   ]
  },
  {
   "cell_type": "code",
   "execution_count": 17,
   "metadata": {},
   "outputs": [],
   "source": [
    "from scipy.spatial import distance\n",
    "less_engaged_centroid = engagement_metrics.loc[engagement_metrics['Cluster'] == less_engaged_cluster, ['Session Frequency', 'Total Duration', 'Total DL', 'Total UL']].mean().values\n",
    "engagement_metrics['Euclidean Distance'] = engagement_metrics.apply(lambda row: distance.euclidean(row[['Session Frequency', 'Total Duration', 'Total DL', 'Total UL']], less_engaged_centroid), axis=1)"
   ]
  },
  {
   "cell_type": "code",
   "execution_count": 16,
   "metadata": {},
   "outputs": [
    {
     "data": {
      "text/plain": [
       "array([1.16009731e+00, 1.17691791e+05, 4.88728205e+08, 4.77218215e+07])"
      ]
     },
     "execution_count": 16,
     "metadata": {},
     "output_type": "execute_result"
    }
   ],
   "source": [
    "less_engaged_centroid"
   ]
  },
  {
   "cell_type": "code",
   "execution_count": 17,
   "metadata": {},
   "outputs": [
    {
     "data": {
      "text/plain": [
       "0         3.541016e+08\n",
       "1         3.681564e+08\n",
       "2         6.845068e+07\n",
       "3         9.095833e+07\n",
       "4         8.756409e+08\n",
       "              ...     \n",
       "106851    2.003015e+08\n",
       "106852    4.575203e+07\n",
       "106853    2.940860e+08\n",
       "106854    5.168444e+07\n",
       "106855    4.102290e+08\n",
       "Name: Euclidean Distance, Length: 106856, dtype: float64"
      ]
     },
     "execution_count": 17,
     "metadata": {},
     "output_type": "execute_result"
    }
   ],
   "source": [
    "engagement_metrics['Euclidean Distance']"
   ]
  },
  {
   "cell_type": "markdown",
   "metadata": {},
   "source": [
    "#### Scatterplot for Euclident Distance "
   ]
  },
  {
   "cell_type": "code",
   "execution_count": 18,
   "metadata": {},
   "outputs": [
    {
     "data": {
      "image/png": "[encoded data removed]",
      "text/plain": [
       "<Figure size 800x600 with 1 Axes>"
      ]
     },
     "metadata": {},
     "output_type": "display_data"
    }
   ],
   "source": [
    "plt.figure(figsize=(8, 6))\n",
    "sns.scatterplot(x='Euclidean Distance', y='Total Duration', hue='Cluster', data=engagement_metrics, palette='viridis', alpha=0.7)\n",
    "plt.title('Engagement Scores and Clusters')\n",
    "plt.xlabel('Euclidean Distance to Less Engaged Cluster')\n",
    "plt.ylabel('Total Duration')\n",
    "plt.legend(title='Cluster')\n",
    "plt.show()"
   ]
  },
  {
   "cell_type": "markdown",
   "metadata": {},
   "source": [
    "##### Interpretation and Conclusion\n",
    "\n",
    "* By examining the scatter plot, it can be identified any discernible patterns or trends and observed clusters of points with similar Euclidean distances and Total Durations, indicating potential relationships between these variables.\n",
    "\n",
    "* The degree of separation or overlap between clusters can provide insights into the effectiveness of the clustering algorithm. Well-separated clusters suggest clear distinctions in the feature space.\n",
    "\n",
    "* Points that deviate from the general trend may represent outliers. These outliers could be instances where the engagement metrics significantly differ from the typical behavior within a cluster.\n",
    "\n",
    "* Analyzing the plot may help identify clusters with distinct engagement patterns and reveal potential correlations or dependencies between Euclidean Distance and Total Duration."
   ]
  },
  {
   "cell_type": "markdown",
   "metadata": {},
   "source": [
    "#### K Means cluster for Experiance Metrics"
   ]
  },
  {
   "cell_type": "code",
   "execution_count": 18,
   "metadata": {},
   "outputs": [
    {
     "data": {
      "text/plain": [
       "MSISDN/Number                      0\n",
       "TCP DL Retrans. Vol (Bytes)        0\n",
       "TCP UL Retrans. Vol (Bytes)        0\n",
       "Avg RTT DL (ms)                18536\n",
       "Avg RTT UL (ms)                18523\n",
       "Handset Type                       0\n",
       "Avg Bearer TP DL (kbps)            0\n",
       "Avg Bearer TP UL (kbps)            0\n",
       "dtype: int64"
      ]
     },
     "execution_count": 18,
     "metadata": {},
     "output_type": "execute_result"
    }
   ],
   "source": [
    "experience_metrics.isnull().sum()"
   ]
  },
  {
   "cell_type": "code",
   "execution_count": 19,
   "metadata": {},
   "outputs": [
    {
     "name": "stderr",
     "output_type": "stream",
     "text": [
      "C:\\Users\\pooji\\AppData\\Local\\Temp\\ipykernel_21828\\3374146591.py:1: FutureWarning: The default value of numeric_only in DataFrame.mean is deprecated. In a future version, it will default to False. In addition, specifying 'numeric_only=None' is deprecated. Select only valid columns or specify the value of numeric_only to silence this warning.\n",
      "  experience_metrics=experience_metrics.fillna(experience_metrics.mean())\n"
     ]
    }
   ],
   "source": [
    "experience_metrics=experience_metrics.fillna(experience_metrics.mean())"
   ]
  },
  {
   "cell_type": "code",
   "execution_count": 20,
   "metadata": {},
   "outputs": [
    {
     "data": {
      "text/plain": [
       "MSISDN/Number                  0\n",
       "TCP DL Retrans. Vol (Bytes)    0\n",
       "TCP UL Retrans. Vol (Bytes)    0\n",
       "Avg RTT DL (ms)                0\n",
       "Avg RTT UL (ms)                0\n",
       "Handset Type                   0\n",
       "Avg Bearer TP DL (kbps)        0\n",
       "Avg Bearer TP UL (kbps)        0\n",
       "dtype: int64"
      ]
     },
     "execution_count": 20,
     "metadata": {},
     "output_type": "execute_result"
    }
   ],
   "source": [
    "experience_metrics.isnull().sum()"
   ]
  },
  {
   "cell_type": "code",
   "execution_count": 21,
   "metadata": {},
   "outputs": [
    {
     "name": "stderr",
     "output_type": "stream",
     "text": [
      "c:\\Users\\pooji\\anaconda3\\lib\\site-packages\\sklearn\\cluster\\_kmeans.py:870: FutureWarning: The default value of `n_init` will change from 10 to 'auto' in 1.4. Set the value of `n_init` explicitly to suppress the warning\n",
      "  warnings.warn(\n"
     ]
    }
   ],
   "source": [
    "kmeans_experience = KMeans(n_clusters=2, random_state=42)\n",
    "experience_metrics['Cluster']=kmeans_experience.fit_predict(experience_metrics[['TCP DL Retrans. Vol (Bytes)', 'TCP UL Retrans. Vol (Bytes)',\n",
    "                                                                                       'Avg RTT DL (ms)', 'Avg RTT UL (ms)',\n",
    "                                                                                       'Avg Bearer TP DL (kbps)', 'Avg Bearer TP UL (kbps)']])"
   ]
  },
  {
   "cell_type": "code",
   "execution_count": 22,
   "metadata": {},
   "outputs": [
    {
     "data": {
      "text/html": [
       "<style>#sk-container-id-2 {color: black;background-color: white;}#sk-container-id-2 pre{padding: 0;}#sk-container-id-2 div.sk-toggleable {background-color: white;}#sk-container-id-2 label.sk-toggleable__label {cursor: pointer;display: block;width: 100%;margin-bottom: 0;padding: 0.3em;box-sizing: border-box;text-align: center;}#sk-container-id-2 label.sk-toggleable__label-arrow:before {content: \"▸\";float: left;margin-right: 0.25em;color: #696969;}#sk-container-id-2 label.sk-toggleable__label-arrow:hover:before {color: black;}#sk-container-id-2 div.sk-estimator:hover label.sk-toggleable__label-arrow:before {color: black;}#sk-container-id-2 div.sk-toggleable__content {max-height: 0;max-width: 0;overflow: hidden;text-align: left;background-color: #f0f8ff;}#sk-container-id-2 div.sk-toggleable__content pre {margin: 0.2em;color: black;border-radius: 0.25em;background-color: #f0f8ff;}#sk-container-id-2 input.sk-toggleable__control:checked~div.sk-toggleable__content {max-height: 200px;max-width: 100%;overflow: auto;}#sk-container-id-2 input.sk-toggleable__control:checked~label.sk-toggleable__label-arrow:before {content: \"▾\";}#sk-container-id-2 div.sk-estimator input.sk-toggleable__control:checked~label.sk-toggleable__label {background-color: #d4ebff;}#sk-container-id-2 div.sk-label input.sk-toggleable__control:checked~label.sk-toggleable__label {background-color: #d4ebff;}#sk-container-id-2 input.sk-hidden--visually {border: 0;clip: rect(1px 1px 1px 1px);clip: rect(1px, 1px, 1px, 1px);height: 1px;margin: -1px;overflow: hidden;padding: 0;position: absolute;width: 1px;}#sk-container-id-2 div.sk-estimator {font-family: monospace;background-color: #f0f8ff;border: 1px dotted black;border-radius: 0.25em;box-sizing: border-box;margin-bottom: 0.5em;}#sk-container-id-2 div.sk-estimator:hover {background-color: #d4ebff;}#sk-container-id-2 div.sk-parallel-item::after {content: \"\";width: 100%;border-bottom: 1px solid gray;flex-grow: 1;}#sk-container-id-2 div.sk-label:hover label.sk-toggleable__label {background-color: #d4ebff;}#sk-container-id-2 div.sk-serial::before {content: \"\";position: absolute;border-left: 1px solid gray;box-sizing: border-box;top: 0;bottom: 0;left: 50%;z-index: 0;}#sk-container-id-2 div.sk-serial {display: flex;flex-direction: column;align-items: center;background-color: white;padding-right: 0.2em;padding-left: 0.2em;position: relative;}#sk-container-id-2 div.sk-item {position: relative;z-index: 1;}#sk-container-id-2 div.sk-parallel {display: flex;align-items: stretch;justify-content: center;background-color: white;position: relative;}#sk-container-id-2 div.sk-item::before, #sk-container-id-2 div.sk-parallel-item::before {content: \"\";position: absolute;border-left: 1px solid gray;box-sizing: border-box;top: 0;bottom: 0;left: 50%;z-index: -1;}#sk-container-id-2 div.sk-parallel-item {display: flex;flex-direction: column;z-index: 1;position: relative;background-color: white;}#sk-container-id-2 div.sk-parallel-item:first-child::after {align-self: flex-end;width: 50%;}#sk-container-id-2 div.sk-parallel-item:last-child::after {align-self: flex-start;width: 50%;}#sk-container-id-2 div.sk-parallel-item:only-child::after {width: 0;}#sk-container-id-2 div.sk-dashed-wrapped {border: 1px dashed gray;margin: 0 0.4em 0.5em 0.4em;box-sizing: border-box;padding-bottom: 0.4em;background-color: white;}#sk-container-id-2 div.sk-label label {font-family: monospace;font-weight: bold;display: inline-block;line-height: 1.2em;}#sk-container-id-2 div.sk-label-container {text-align: center;}#sk-container-id-2 div.sk-container {/* jupyter's `normalize.less` sets `[hidden] { display: none; }` but bootstrap.min.css set `[hidden] { display: none !important; }` so we also need the `!important` here to be able to override the default hidden behavior on the sphinx rendered scikit-learn.org. See: https://github.com/scikit-learn/scikit-learn/issues/21755 */display: inline-block !important;position: relative;}#sk-container-id-2 div.sk-text-repr-fallback {display: none;}</style><div id=\"sk-container-id-2\" class=\"sk-top-container\"><div class=\"sk-text-repr-fallback\"><pre>KMeans(n_clusters=2, random_state=42)</pre><b>In a Jupyter environment, please rerun this cell to show the HTML representation or trust the notebook. <br />On GitHub, the HTML representation is unable to render, please try loading this page with nbviewer.org.</b></div><div class=\"sk-container\" hidden><div class=\"sk-item\"><div class=\"sk-estimator sk-toggleable\"><input class=\"sk-toggleable__control sk-hidden--visually\" id=\"sk-estimator-id-2\" type=\"checkbox\" checked><label for=\"sk-estimator-id-2\" class=\"sk-toggleable__label sk-toggleable__label-arrow\">KMeans</label><div class=\"sk-toggleable__content\"><pre>KMeans(n_clusters=2, random_state=42)</pre></div></div></div></div></div>"
      ],
      "text/plain": [
       "KMeans(n_clusters=2, random_state=42)"
      ]
     },
     "execution_count": 22,
     "metadata": {},
     "output_type": "execute_result"
    }
   ],
   "source": [
    "kmeans_experience"
   ]
  },
  {
   "cell_type": "markdown",
   "metadata": {},
   "source": [
    "#### Identity cluster with wort experience"
   ]
  },
  {
   "cell_type": "code",
   "execution_count": 23,
   "metadata": {},
   "outputs": [
    {
     "name": "stderr",
     "output_type": "stream",
     "text": [
      "C:\\Users\\pooji\\AppData\\Local\\Temp\\ipykernel_21828\\902698297.py:1: FutureWarning: The default value of numeric_only in DataFrameGroupBy.mean is deprecated. In a future version, numeric_only will default to False. Either specify numeric_only or select only columns which should be valid for the function.\n",
      "  worst_experience_cluster = experience_metrics.groupby('Cluster').mean()['Avg RTT DL (ms)'].idxmax()\n"
     ]
    },
    {
     "data": {
      "text/plain": [
       "0"
      ]
     },
     "execution_count": 23,
     "metadata": {},
     "output_type": "execute_result"
    }
   ],
   "source": [
    "worst_experience_cluster = experience_metrics.groupby('Cluster').mean()['Avg RTT DL (ms)'].idxmax()\n",
    "worst_experience_cluster"
   ]
  },
  {
   "cell_type": "markdown",
   "metadata": {},
   "source": [
    "##### Interpretation & Conclusion\n",
    "\n",
    "* Cluster Identification:\n",
    "\n",
    "Cluster 0 has been identified as having the highest average value for the 'Avg RTT DL (ms)' metric among all clusters.\n",
    "\n",
    "* Worst Experience Metric - 'Avg RTT DL (ms)':\n",
    "\n",
    "The 'Avg RTT DL (ms)' metric is a key factor in determining the user experience, particularly related to the round-trip time for data transmission on the downlink (download) direction. Higher values of this metric generally indicate poorer network responsiveness.\n",
    "\n",
    "* Cluster-Specific Insights:\n",
    "\n",
    "Cluster 0 represents a subset of the dataset where users, on average, experience higher 'Avg RTT DL (ms)' values, indicating a potentially worse network performance in terms of downlink round-trip time.\n",
    "\n",
    "* Recommendations for Improvement:\n",
    "\n",
    "Identifying the cluster with the worst experience provides actionable insights for improvement. Strategies for enhancing network performance, reducing latency, or optimizing the downlink transmission in Cluster 0 may be prioritized to enhance the user experience for this specific group.\n",
    "\n",
    "* Application to Decision-Making:\n",
    "\n",
    "The identification of the worst experience cluster can guide decision-making in network optimization, resource allocation, and service improvement efforts. Targeted interventions or optimizations can be implemented to address the specific challenges faced by users in Cluster 0.\n",
    "\n",
    "* In summary, the analysis pinpoints Cluster 0 as having the worst experience based on the 'Avg RTT DL (ms)' metric. This information can be valuable for network optimization efforts and improving the overall user experience for this specific cluster."
   ]
  },
  {
   "cell_type": "markdown",
   "metadata": {},
   "source": [
    "#### Calculate Euclidea\n",
    "n distance for each other"
   ]
  },
  {
   "cell_type": "code",
   "execution_count": 24,
   "metadata": {},
   "outputs": [],
   "source": [
    "if worst_experience_cluster is not None:\n",
    "    worst_experience_centroid = experience_metrics.loc[experience_metrics['Cluster'] == worst_experience_cluster,\n",
    "                                                      ['TCP DL Retrans. Vol (Bytes)', 'TCP UL Retrans. Vol (Bytes)',\n",
    "                                                       'Avg RTT DL (ms)', 'Avg RTT UL (ms)',\n",
    "                                                       'Avg Bearer TP DL (kbps)', 'Avg Bearer TP UL (kbps)']].mean()\n",
    "else:\n",
    "    print(\"No data found for the worst experience cluster.\")\n"
   ]
  },
  {
   "cell_type": "code",
   "execution_count": 25,
   "metadata": {},
   "outputs": [
    {
     "data": {
      "text/plain": [
       "TCP DL Retrans. Vol (Bytes)    5.734335e+06\n",
       "TCP UL Retrans. Vol (Bytes)    3.676563e+05\n",
       "Avg RTT DL (ms)                1.192081e+02\n",
       "Avg RTT UL (ms)                1.672173e+01\n",
       "Avg Bearer TP DL (kbps)        1.153499e+04\n",
       "Avg Bearer TP UL (kbps)        1.505047e+03\n",
       "dtype: float64"
      ]
     },
     "execution_count": 25,
     "metadata": {},
     "output_type": "execute_result"
    }
   ],
   "source": [
    "worst_experience_centroid\n"
   ]
  },
  {
   "cell_type": "markdown",
   "metadata": {},
   "source": [
    "##### Interpretation and Conclusion:\n",
    "\n",
    "The mean values of these metrics provide insights into the network performance characteristics of the cluster identified as having the worst experience. Interpretations could include:\n",
    "\n",
    "* Retransmission Volumes: High values for TCP retransmission volumes suggest potential issues with data reliability and may indicate network congestion or packet loss.\n",
    "\n",
    "* Round-Trip Times: Higher round-trip times on both the downlink and uplink suggest delays in data transmission, affecting the responsiveness of the network.\n",
    "\n",
    "* Bearer Throughput: The average bearer throughput values indicate the average data transfer rates on both the downlink and uplink, providing insights into the efficiency of data delivery.\n",
    "\n",
    "* These metrics can guide further investigation and targeted improvements to address specific network challenges in the cluster identified as having the worst experience. Additionally, comparing these values to benchmarks or thresholds can help determine the severity of network performance issues."
   ]
  },
  {
   "cell_type": "markdown",
   "metadata": {},
   "source": [
    "#### Euclidean Distance"
   ]
  },
  {
   "cell_type": "code",
   "execution_count": 26,
   "metadata": {},
   "outputs": [],
   "source": [
    "experience_metrics['Euclidean Distance'] = experience_metrics.apply(lambda row: distance.euclidean(\n",
    "    row[['TCP DL Retrans. Vol (Bytes)', 'TCP UL Retrans. Vol (Bytes)',\n",
    "         'Avg RTT DL (ms)', 'Avg RTT UL (ms)',\n",
    "         'Avg Bearer TP DL (kbps)', 'Avg Bearer TP UL (kbps)']], worst_experience_centroid), axis=1)"
   ]
  },
  {
   "cell_type": "code",
   "execution_count": 27,
   "metadata": {},
   "outputs": [
    {
     "data": {
      "text/plain": [
       "0         5.746121e+06\n",
       "1         5.746121e+06\n",
       "2         5.746121e+06\n",
       "3         5.745057e+06\n",
       "4         3.631874e+06\n",
       "              ...     \n",
       "106851    5.531325e+06\n",
       "106852    5.746121e+06\n",
       "106853    5.746121e+06\n",
       "106854    5.746121e+06\n",
       "106855    5.746121e+06\n",
       "Name: Euclidean Distance, Length: 106856, dtype: float64"
      ]
     },
     "execution_count": 27,
     "metadata": {},
     "output_type": "execute_result"
    }
   ],
   "source": [
    "experience_metrics['Euclidean Distance']"
   ]
  },
  {
   "cell_type": "markdown",
   "metadata": {},
   "source": [
    "The Euclidean distances calculated for each data point indicate significant deviations in network performance metrics from the centroid of the worst experience cluster.\n",
    "\n",
    "* Larger distances highlight outliers, signifying users or sessions with pronounced differences in network performance within the identified cluster.\n",
    "\n",
    "* Users with higher Euclidean distances warrant focused attention for network optimization efforts, aiming to address specific challenges they face.\n",
    "\n",
    "* The distances provide a quantitative measure of the diversity of user experiences within the worst experience cluster, aiding in tailored solutions and interventions.\n",
    "\n",
    "* Regular monitoring and updating of Euclidean distances allow for ongoing assessment and adaptation of strategies to improve overall user satisfaction."
   ]
  },
  {
   "cell_type": "markdown",
   "metadata": {},
   "source": [
    "#### Scatter plot for Euclidean Distance to Worst Experience Cluster"
   ]
  },
  {
   "cell_type": "code",
   "execution_count": 29,
   "metadata": {},
   "outputs": [
    {
     "data": {
      "image/png": "[encoded data removed]",
      "text/plain": [
       "<Figure size 1000x600 with 1 Axes>"
      ]
     },
     "metadata": {},
     "output_type": "display_data"
    }
   ],
   "source": [
    "plt.figure(figsize=(10, 6))\n",
    "sns.scatterplot(x='Euclidean Distance', y='Avg RTT DL (ms)', hue='Cluster', data=experience_metrics, palette='viridis', alpha=0.7)\n",
    "plt.title('Experience Scores and Clusters')\n",
    "plt.xlabel('Euclidean Distance to Worst Experience Cluster')\n",
    "plt.ylabel('Avg RTT DL (ms)')\n",
    "plt.legend(title='Cluster')\n",
    "plt.show()"
   ]
  },
  {
   "cell_type": "markdown",
   "metadata": {},
   "source": [
    "The scatter plot visualizes the relationship between 'Euclidean Distance to Worst Experience Cluster' and 'Avg RTT DL (ms)' for data points in the 'experience_metrics' DataFrame.\n",
    "\n",
    "* Each point on the plot represents a user or session, with its position determined by both the Euclidean distance to the worst experience cluster centroid and the corresponding 'Avg RTT DL (ms)' value.\n",
    "\n",
    "* Points are color-coded based on their assigned clusters, providing a clear distinction between different user groups within the worst experience cluster.\n",
    "\n",
    "* The plot allows for the identification of patterns and trends, such as clusters of users with similar 'Avg RTT DL (ms)' values and their respective distances to the worst experience cluster.\n",
    "\n",
    "* Insights from this visualization can guide targeted interventions, helping to improve network performance for specific user groups and ultimately enhance overall user satisfaction."
   ]
  },
  {
   "cell_type": "markdown",
   "metadata": {},
   "source": [
    "#### Engagement Score"
   ]
  },
  {
   "cell_type": "code",
   "execution_count": 28,
   "metadata": {},
   "outputs": [],
   "source": [
    "from scipy.spatial import distance\n",
    "less_engaged_centroid = kmeans.cluster_centers_[less_engaged_cluster]\n",
    "\n",
    "engagement_metrics['Engagement Score'] = engagement_metrics.apply(\n",
    "    lambda row: distance.euclidean(\n",
    "        row[['Session Frequency', 'Total Duration', 'Total DL', 'Total UL']],\n",
    "        less_engaged_centroid\n",
    "    ),\n",
    "    axis=1\n",
    ")"
   ]
  },
  {
   "cell_type": "code",
   "execution_count": 31,
   "metadata": {},
   "outputs": [
    {
     "data": {
      "text/plain": [
       "0         3.541990e+08\n",
       "1         3.680585e+08\n",
       "2         6.854672e+07\n",
       "3         9.086287e+07\n",
       "4         8.757389e+08\n",
       "              ...     \n",
       "106851    2.003979e+08\n",
       "106852    4.565574e+07\n",
       "106853    2.939881e+08\n",
       "106854    5.178200e+07\n",
       "106855    4.101316e+08\n",
       "Name: Engagement Score, Length: 106856, dtype: float64"
      ]
     },
     "execution_count": 31,
     "metadata": {},
     "output_type": "execute_result"
    }
   ],
   "source": [
    "engagement_metrics['Engagement Score']"
   ]
  },
  {
   "cell_type": "markdown",
   "metadata": {},
   "source": [
    "##### Interpretation & Conclusion \n",
    "\n",
    "* The 'Engagement Score' column contains numerical values, representing the calculated engagement scores for each corresponding data point.\n",
    "\n",
    "* Higher scores indicate greater dissimilarity or distance from the less engaged cluster centroid, suggesting lower engagement levels for those particular data points.\n",
    "\n",
    "* The engagement scores offer a quantitative measure of user engagement based on the specified metrics, providing insights into the diversity of engagement levels within the identified less engaged cluster."
   ]
  },
  {
   "cell_type": "markdown",
   "metadata": {},
   "source": [
    "#### Experience Score"
   ]
  },
  {
   "cell_type": "code",
   "execution_count": 29,
   "metadata": {},
   "outputs": [],
   "source": [
    "from sklearn.preprocessing import MinMaxScaler\n",
    "\n",
    "scaler = MinMaxScaler()\n",
    "experience_metrics['Experience Score'] = 1 - scaler.fit_transform(experience_metrics[['Euclidean Distance']])"
   ]
  },
  {
   "cell_type": "code",
   "execution_count": 33,
   "metadata": {},
   "outputs": [
    {
     "data": {
      "text/plain": [
       "0         0.999317\n",
       "1         0.999317\n",
       "2         0.999317\n",
       "3         0.999317\n",
       "4         0.999571\n",
       "            ...   \n",
       "106851    0.999343\n",
       "106852    0.999317\n",
       "106853    0.999317\n",
       "106854    0.999317\n",
       "106855    0.999317\n",
       "Name: Experience Score, Length: 106856, dtype: float64"
      ]
     },
     "execution_count": 33,
     "metadata": {},
     "output_type": "execute_result"
    }
   ],
   "source": [
    "experience_metrics['Experience Score']"
   ]
  },
  {
   "cell_type": "markdown",
   "metadata": {},
   "source": [
    "##### Interpretation & Conclusion\n",
    "\n",
    "* The Min-Max scaling ensures that the scores are normalized between 0 and 1, providing a consistent scale for the experience scores.\n",
    "\n",
    "* The resulting 'Experience Score' column contains numerical values, with higher scores indicating better network performance or user experience.\n",
    "\n",
    "* The subtraction of the scaled values from 1 ensures that a higher 'Euclidean Distance' (indicating worse performance) corresponds to a lower 'Experience Score.'\n",
    "\n",
    "* The normalized scores are useful for comparative analysis and visualization, allowing for a standardized representation of the network performance across different users or sessions."
   ]
  },
  {
   "cell_type": "markdown",
   "metadata": {},
   "source": [
    "#### Satisfaction Score"
   ]
  },
  {
   "cell_type": "code",
   "execution_count": 30,
   "metadata": {},
   "outputs": [
    {
     "data": {
      "text/plain": [
       "0         1.770995e+08\n",
       "1         1.840292e+08\n",
       "2         3.427336e+07\n",
       "3         4.543143e+07\n",
       "4         4.378694e+08\n",
       "              ...     \n",
       "106851    1.001989e+08\n",
       "106852    2.282787e+07\n",
       "106853    1.469940e+08\n",
       "106854    2.589100e+07\n",
       "106855    2.050658e+08\n",
       "Name: Satisfaction Score, Length: 106856, dtype: float64"
      ]
     },
     "execution_count": 30,
     "metadata": {},
     "output_type": "execute_result"
    }
   ],
   "source": [
    "satisfaction_analysis['Satisfaction Score']=(engagement_metrics['Engagement Score']+experience_metrics['Experience Score'])/2\n",
    "satisfaction_analysis['Satisfaction Score']"
   ]
  },
  {
   "cell_type": "markdown",
   "metadata": {},
   "source": [
    "##### Interpretation & Conclusion\n",
    "\n",
    "* The Satisfaction Score is intended to offer a balanced perspective, taking into account both user engagement and network experience.\n",
    "\n",
    "* Higher Satisfaction Scores indicate more satisfied users, while lower scores may highlight areas for improvement."
   ]
  },
  {
   "cell_type": "markdown",
   "metadata": {},
   "source": [
    "##### Top 10 Satisfied Customers"
   ]
  },
  {
   "cell_type": "code",
   "execution_count": 35,
   "metadata": {},
   "outputs": [
    {
     "name": "stdout",
     "output_type": "stream",
     "text": [
      "       MSISDN/Number  Satisfaction Score\n",
      "6437    3.361489e+10        3.847464e+09\n",
      "92923   3.376054e+10        3.675987e+09\n",
      "13180   3.362578e+10        3.656646e+09\n",
      "76363   3.367588e+10        3.420886e+09\n",
      "13526   3.362632e+10        3.420610e+09\n",
      "37052   3.365973e+10        3.309067e+09\n",
      "63028   3.366646e+10        3.212378e+09\n",
      "92577   3.376041e+10        3.070265e+09\n",
      "57241   3.366471e+10        2.963647e+09\n",
      "86455   3.369879e+10        2.771490e+09\n"
     ]
    }
   ],
   "source": [
    "top_10_satisfied_customers = satisfaction_analysis.nlargest(10, 'Satisfaction Score')[['MSISDN/Number','Satisfaction Score']]\n",
    "print(top_10_satisfied_customers)"
   ]
  },
  {
   "cell_type": "code",
   "execution_count": 36,
   "metadata": {},
   "outputs": [
    {
     "data": {
      "image/png": "[encoded data removed]",
      "text/plain": [
       "<Figure size 800x600 with 1 Axes>"
      ]
     },
     "metadata": {},
     "output_type": "display_data"
    }
   ],
   "source": [
    "top_10_satisfied_customers['MSISDN/Number'] = top_10_satisfied_customers['MSISDN/Number'].astype(str)\n",
    "\n",
    "colors = sns.color_palette('husl', n_colors=len(top_10_satisfied_customers))\n",
    "\n",
    "plt.figure(figsize=(8, 6))\n",
    "plt.bar(top_10_satisfied_customers['MSISDN/Number'], top_10_satisfied_customers['Satisfaction Score'], color=colors)\n",
    "plt.title('Top 10 Satisfied Customers')\n",
    "plt.xlabel('MSISDN/Number')\n",
    "plt.ylabel('Satisfaction Score')\n",
    "plt.xticks(rotation=45, ha='right')\n",
    "plt.tight_layout()\n",
    "plt.show()"
   ]
  },
  {
   "cell_type": "markdown",
   "metadata": {},
   "source": [
    "##### Interpretation & Conclusion\n",
    "\n",
    "* Identified top 10 highly satisfied customers based on exceptional Satisfaction Scores.\n",
    "\n",
    "* Their experiences and engagements with the network were outstanding, as reflected by significantly higher scores compared to others.\n",
    "\n",
    "* Positive network interactions, including seamless sessions, longer durations, and extensive data usage, likely contributed to their high Satisfaction Scores.\n",
    "\n",
    "* Key metrics influencing satisfaction include session frequency, total duration, data usage, and network responsiveness.\n",
    "\n",
    "* Addressing issues related to session quality, duration, and network performance for users with lower Satisfaction Scores could enhance overall satisfaction.\n",
    "\n",
    "* Telecom operators can use these insights for strategic decision-making, resource allocation, and targeted improvements in the network infrastructure.\n",
    "\n",
    "* Implementing a customer-centric approach in network optimization and service delivery is essential for maintaining and improving overall customer satisfaction."
   ]
  },
  {
   "cell_type": "markdown",
   "metadata": {},
   "source": [
    "#### Build a Regression Model"
   ]
  },
  {
   "cell_type": "code",
   "execution_count": 31,
   "metadata": {},
   "outputs": [
    {
     "data": {
      "text/plain": [
       "Index(['MSISDN/Number', 'Session Frequency', 'Total Duration', 'Total DL',\n",
       "       'Total UL', 'TCP DL Retrans. Vol (Bytes)',\n",
       "       'TCP UL Retrans. Vol (Bytes)', 'Avg RTT DL (ms)', 'Avg RTT UL (ms)',\n",
       "       'Handset Type', 'Avg Bearer TP DL (kbps)', 'Avg Bearer TP UL (kbps)',\n",
       "       'Satisfaction Score'],\n",
       "      dtype='object')"
      ]
     },
     "execution_count": 31,
     "metadata": {},
     "output_type": "execute_result"
    }
   ],
   "source": [
    "satisfaction_analysis.columns"
   ]
  },
  {
   "cell_type": "markdown",
   "metadata": {},
   "source": [
    "#### Randome Forest Classifier"
   ]
  },
  {
   "cell_type": "code",
   "execution_count": 32,
   "metadata": {},
   "outputs": [],
   "source": [
    "from sklearn.model_selection import train_test_split\n",
    "from sklearn.ensemble import RandomForestClassifier\n",
    "from sklearn.metrics import mean_squared_error, r2_score\n",
    "from sklearn.ensemble import RandomForestRegressor\n"
   ]
  },
  {
   "cell_type": "code",
   "execution_count": 33,
   "metadata": {},
   "outputs": [],
   "source": [
    "x= satisfaction_analysis[['Session Frequency','Total Duration', 'Total DL', 'Total UL']]\n",
    "y= satisfaction_analysis['Satisfaction Score']"
   ]
  },
  {
   "cell_type": "code",
   "execution_count": 34,
   "metadata": {},
   "outputs": [],
   "source": [
    "x_train, x_test, y_train, y_test = train_test_split(x,y, test_size =0.2, random_state=42)"
   ]
  },
  {
   "cell_type": "code",
   "execution_count": 35,
   "metadata": {},
   "outputs": [],
   "source": [
    "model=RandomForestRegressor(n_estimators=100, random_state=42)"
   ]
  },
  {
   "cell_type": "code",
   "execution_count": 36,
   "metadata": {},
   "outputs": [
    {
     "data": {
      "text/html": [
       "<style>#sk-container-id-3 {color: black;background-color: white;}#sk-container-id-3 pre{padding: 0;}#sk-container-id-3 div.sk-toggleable {background-color: white;}#sk-container-id-3 label.sk-toggleable__label {cursor: pointer;display: block;width: 100%;margin-bottom: 0;padding: 0.3em;box-sizing: border-box;text-align: center;}#sk-container-id-3 label.sk-toggleable__label-arrow:before {content: \"▸\";float: left;margin-right: 0.25em;color: #696969;}#sk-container-id-3 label.sk-toggleable__label-arrow:hover:before {color: black;}#sk-container-id-3 div.sk-estimator:hover label.sk-toggleable__label-arrow:before {color: black;}#sk-container-id-3 div.sk-toggleable__content {max-height: 0;max-width: 0;overflow: hidden;text-align: left;background-color: #f0f8ff;}#sk-container-id-3 div.sk-toggleable__content pre {margin: 0.2em;color: black;border-radius: 0.25em;background-color: #f0f8ff;}#sk-container-id-3 input.sk-toggleable__control:checked~div.sk-toggleable__content {max-height: 200px;max-width: 100%;overflow: auto;}#sk-container-id-3 input.sk-toggleable__control:checked~label.sk-toggleable__label-arrow:before {content: \"▾\";}#sk-container-id-3 div.sk-estimator input.sk-toggleable__control:checked~label.sk-toggleable__label {background-color: #d4ebff;}#sk-container-id-3 div.sk-label input.sk-toggleable__control:checked~label.sk-toggleable__label {background-color: #d4ebff;}#sk-container-id-3 input.sk-hidden--visually {border: 0;clip: rect(1px 1px 1px 1px);clip: rect(1px, 1px, 1px, 1px);height: 1px;margin: -1px;overflow: hidden;padding: 0;position: absolute;width: 1px;}#sk-container-id-3 div.sk-estimator {font-family: monospace;background-color: #f0f8ff;border: 1px dotted black;border-radius: 0.25em;box-sizing: border-box;margin-bottom: 0.5em;}#sk-container-id-3 div.sk-estimator:hover {background-color: #d4ebff;}#sk-container-id-3 div.sk-parallel-item::after {content: \"\";width: 100%;border-bottom: 1px solid gray;flex-grow: 1;}#sk-container-id-3 div.sk-label:hover label.sk-toggleable__label {background-color: #d4ebff;}#sk-container-id-3 div.sk-serial::before {content: \"\";position: absolute;border-left: 1px solid gray;box-sizing: border-box;top: 0;bottom: 0;left: 50%;z-index: 0;}#sk-container-id-3 div.sk-serial {display: flex;flex-direction: column;align-items: center;background-color: white;padding-right: 0.2em;padding-left: 0.2em;position: relative;}#sk-container-id-3 div.sk-item {position: relative;z-index: 1;}#sk-container-id-3 div.sk-parallel {display: flex;align-items: stretch;justify-content: center;background-color: white;position: relative;}#sk-container-id-3 div.sk-item::before, #sk-container-id-3 div.sk-parallel-item::before {content: \"\";position: absolute;border-left: 1px solid gray;box-sizing: border-box;top: 0;bottom: 0;left: 50%;z-index: -1;}#sk-container-id-3 div.sk-parallel-item {display: flex;flex-direction: column;z-index: 1;position: relative;background-color: white;}#sk-container-id-3 div.sk-parallel-item:first-child::after {align-self: flex-end;width: 50%;}#sk-container-id-3 div.sk-parallel-item:last-child::after {align-self: flex-start;width: 50%;}#sk-container-id-3 div.sk-parallel-item:only-child::after {width: 0;}#sk-container-id-3 div.sk-dashed-wrapped {border: 1px dashed gray;margin: 0 0.4em 0.5em 0.4em;box-sizing: border-box;padding-bottom: 0.4em;background-color: white;}#sk-container-id-3 div.sk-label label {font-family: monospace;font-weight: bold;display: inline-block;line-height: 1.2em;}#sk-container-id-3 div.sk-label-container {text-align: center;}#sk-container-id-3 div.sk-container {/* jupyter's `normalize.less` sets `[hidden] { display: none; }` but bootstrap.min.css set `[hidden] { display: none !important; }` so we also need the `!important` here to be able to override the default hidden behavior on the sphinx rendered scikit-learn.org. See: https://github.com/scikit-learn/scikit-learn/issues/21755 */display: inline-block !important;position: relative;}#sk-container-id-3 div.sk-text-repr-fallback {display: none;}</style><div id=\"sk-container-id-3\" class=\"sk-top-container\"><div class=\"sk-text-repr-fallback\"><pre>RandomForestRegressor(random_state=42)</pre><b>In a Jupyter environment, please rerun this cell to show the HTML representation or trust the notebook. <br />On GitHub, the HTML representation is unable to render, please try loading this page with nbviewer.org.</b></div><div class=\"sk-container\" hidden><div class=\"sk-item\"><div class=\"sk-estimator sk-toggleable\"><input class=\"sk-toggleable__control sk-hidden--visually\" id=\"sk-estimator-id-3\" type=\"checkbox\" checked><label for=\"sk-estimator-id-3\" class=\"sk-toggleable__label sk-toggleable__label-arrow\">RandomForestRegressor</label><div class=\"sk-toggleable__content\"><pre>RandomForestRegressor(random_state=42)</pre></div></div></div></div></div>"
      ],
      "text/plain": [
       "RandomForestRegressor(random_state=42)"
      ]
     },
     "execution_count": 36,
     "metadata": {},
     "output_type": "execute_result"
    }
   ],
   "source": [
    "model.fit(x_train, y_train)"
   ]
  },
  {
   "cell_type": "code",
   "execution_count": 37,
   "metadata": {},
   "outputs": [
    {
     "name": "stdout",
     "output_type": "stream",
     "text": [
      "Mean Squared Error : 2207007216307.8223\n",
      "R2Score: 0.999929748540188\n"
     ]
    }
   ],
   "source": [
    "y_pred = model.predict(x_test)\n",
    "mse=mean_squared_error(y_test, y_pred)\n",
    "r2score=r2_score(y_test, y_pred)\n",
    "print(f'Mean Squared Error : {mse}')\n",
    "print(f\"R2Score: {r2score}\")"
   ]
  },
  {
   "cell_type": "code",
   "execution_count": 52,
   "metadata": {},
   "outputs": [
    {
     "data": {
      "image/png": "[encoded data removed]",
      "text/plain": [
       "<Figure size 800x600 with 1 Axes>"
      ]
     },
     "metadata": {},
     "output_type": "display_data"
    }
   ],
   "source": [
    "plt.figure(figsize=(8, 6))\n",
    "plt.scatter(y_test, y_pred, alpha=0.5)\n",
    "plt.title('Actual vs Predicted Satisfaction Score')\n",
    "plt.xlabel('Actual Satisfaction Score')\n",
    "plt.ylabel('Predicted Satisfaction Score')\n",
    "\n",
    "x_line = np.linspace(min(y_test), max(y_test), 100)\n",
    "plt.plot(x_line, x_line, color='red', linestyle='--', label='Perfect Fit')\n",
    "\n",
    "plt.legend()\n",
    "plt.show()"
   ]
  },
  {
   "cell_type": "markdown",
   "metadata": {},
   "source": [
    "##### Interpretation \n",
    "\n",
    "•\tThe mean squared error (MSE) of approximately 2.21 trillion indicates a very low error between actual and predicted satisfaction scores.\n",
    "\n",
    "•\tThe R2 score of approximately 0.9999 signifies that the model explains about 99.99% of the variance in the satisfaction scores, indicating an excellent fit.\n",
    "\n",
    "•\tThe scatter plot illustrates a strong linear relationship between actual and predicted satisfaction scores, as most points lie close to the perfect fit line (y=x).\n",
    "\n",
    "•\tOverall, the model demonstrates high accuracy in predicting satisfaction scores, suggesting its effectiveness in this context\n"
   ]
  },
  {
   "cell_type": "markdown",
   "metadata": {},
   "source": [
    "### Feature Importance "
   ]
  },
  {
   "cell_type": "code",
   "execution_count": 39,
   "metadata": {},
   "outputs": [
    {
     "name": "stdout",
     "output_type": "stream",
     "text": [
      "             Feature  Importance\n",
      "2           Total DL      0.9992\n",
      "0  Session Frequency      0.0004\n",
      "3           Total UL      0.0004\n",
      "1     Total Duration      0.0000\n"
     ]
    }
   ],
   "source": [
    "feature_importances = model.feature_importances_\n",
    "feature_names = x.columns\n",
    "\n",
    "feature_importance_df = pd.DataFrame({'Feature': feature_names, 'Importance': feature_importances})\n",
    "feature_importance_df['Importance'] = feature_importance_df['Importance'].round(4)\n",
    "feature_importance_df = feature_importance_df.sort_values(by='Importance', ascending=False)\n",
    "\n",
    "print(feature_importance_df)"
   ]
  },
  {
   "cell_type": "markdown",
   "metadata": {},
   "source": [
    "### Model Load and train "
   ]
  },
  {
   "cell_type": "code",
   "execution_count": 42,
   "metadata": {},
   "outputs": [
    {
     "name": "stdout",
     "output_type": "stream",
     "text": [
      "Mean Squared Error on Test Data: 2207007216307.8223\n",
      "R^2 Score: 0.999929748540188\n"
     ]
    }
   ],
   "source": [
    "import joblib\n",
    "\n",
    "joblib.dump(model, 'trained_model.joblib')\n",
    "\n",
    "loaded_model = joblib.load('trained_model.joblib')\n",
    "predictions = loaded_model.predict(x_test)\n",
    "\n",
    "mse = mean_squared_error(y_test, predictions)\n",
    "r2 = r2_score(y_test, predictions)\n",
    "\n",
    "print(f'Mean Squared Error on Test Data: {mse}')\n",
    "print(f\"R^2 Score: {r2}\")"
   ]
  },
  {
   "cell_type": "markdown",
   "metadata": {},
   "source": [
    "### Prediction of Satisfaction score (Sample 1)"
   ]
  },
  {
   "cell_type": "code",
   "execution_count": 43,
   "metadata": {},
   "outputs": [
    {
     "name": "stdout",
     "output_type": "stream",
     "text": [
      "Predicted Satisfaction Score: 181347846.6521551\n"
     ]
    }
   ],
   "source": [
    "feature_columns = ['Session Frequency' , 'Total Duration', 'Total DL', 'Total UL',]\n",
    "\n",
    "\n",
    "predict_satisfaction_score = pd.DataFrame([[2,259184.0,8.504367e+08,74599564.0]],\n",
    "                                   columns=feature_columns)\n",
    "\n",
    "\n",
    "predicted_satisfaction_score = loaded_model.predict(predict_satisfaction_score)\n",
    "\n",
    "print(f'Predicted Satisfaction Score: {predicted_satisfaction_score[0]}')"
   ]
  },
  {
   "cell_type": "markdown",
   "metadata": {},
   "source": [
    "### Prediction of Satisfaction score (Sample 2)"
   ]
  },
  {
   "cell_type": "code",
   "execution_count": 44,
   "metadata": {},
   "outputs": [
    {
     "name": "stdout",
     "output_type": "stream",
     "text": [
      "Predicted Satisfaction Score: 67080719.00582716\n"
     ]
    }
   ],
   "source": [
    "feature_columns = ['Session Frequency' , 'Total Duration', 'Total DL', 'Total UL',]\n",
    "\n",
    "\n",
    "predict_satisfaction_score1 = pd.DataFrame([[1, 151005.0, 6.224959e+08, 38768519.0]],\n",
    "                                   columns=feature_columns)\n",
    "\n",
    "\n",
    "predicted_satisfaction_score1 = loaded_model.predict(predict_satisfaction_score1)\n",
    "\n",
    "print(f'Predicted Satisfaction Score: {predicted_satisfaction_score1[0]}')"
   ]
  },
  {
   "cell_type": "markdown",
   "metadata": {},
   "source": [
    "#### K mean on Engagement and Experience Score"
   ]
  },
  {
   "cell_type": "code",
   "execution_count": 49,
   "metadata": {},
   "outputs": [
    {
     "name": "stderr",
     "output_type": "stream",
     "text": [
      "c:\\Users\\pooji\\anaconda3\\lib\\site-packages\\sklearn\\cluster\\_kmeans.py:870: FutureWarning: The default value of `n_init` will change from 10 to 'auto' in 1.4. Set the value of `n_init` explicitly to suppress the warning\n",
      "  warnings.warn(\n"
     ]
    }
   ],
   "source": [
    "combined_scores = pd.concat([engagement_metrics['Engagement Score'], experience_metrics['Experience Score']], axis=1)\n",
    "\n",
    "kmeans = KMeans(n_clusters=2, random_state=42)\n",
    "cluster_labels = kmeans.fit_predict(combined_scores)\n",
    "\n",
    "combined_scores['Cluster'] = cluster_labels"
   ]
  },
  {
   "cell_type": "code",
   "execution_count": 51,
   "metadata": {},
   "outputs": [
    {
     "data": {
      "text/plain": [
       "array([0, 0, 0, ..., 0, 0, 0])"
      ]
     },
     "execution_count": 51,
     "metadata": {},
     "output_type": "execute_result"
    }
   ],
   "source": [
    "cluster_labels"
   ]
  },
  {
   "cell_type": "markdown",
   "metadata": {},
   "source": [
    "##### Clustering of Engagement and Experience Scores "
   ]
  },
  {
   "cell_type": "code",
   "execution_count": 48,
   "metadata": {},
   "outputs": [
    {
     "data": {
      "image/png": "[encoded data removed]",
      "text/plain": [
       "<Figure size 800x600 with 1 Axes>"
      ]
     },
     "metadata": {},
     "output_type": "display_data"
    }
   ],
   "source": [
    "plt.figure(figsize=(8, 6))\n",
    "\n",
    "for cluster_label in combined_scores['Cluster'].unique():\n",
    "    cluster_data = combined_scores[combined_scores['Cluster'] == cluster_label]\n",
    "    plt.scatter(cluster_data.iloc[:, 0], cluster_data.iloc[:, 1], label=f'Cluster {cluster_label}') \n",
    "\n",
    "centroids = kmeans.cluster_centers_\n",
    "plt.scatter(centroids[:, 0], centroids[:, 1], marker='x', color='black', label='Centroids')\n",
    "\n",
    "plt.xlabel('Engagement Score')\n",
    "plt.ylabel('Experience Score')\n",
    "plt.title('Clustering of Engagement and Experience Scores')\n",
    "plt.legend()\n",
    "\n",
    "plt.grid(True)\n",
    "plt.show()"
   ]
  },
  {
   "cell_type": "markdown",
   "metadata": {},
   "source": [
    "* Observation:\n",
    "\n",
    "The 'combined_scores' DataFrame includes a mix of numerical values, representing 'Engagement Score' and 'Experience Score' metrics.\n",
    "\n",
    "* K-Means Clustering:\n",
    "\n",
    "You applied k-means clustering with 2 clusters to the standardized scores.\n",
    "The 'Cluster' column was added, assigning each data point to Cluster 0 or Cluster 1.\n",
    "\n",
    "* Interpretation:\n",
    "\n",
    "The scores have been grouped into two clusters based on their similarity, as determined by the k-means algorithm.\n",
    "\n",
    "##### Conclusion:\n",
    "\n",
    "* The presence of two clusters suggests that there are distinct patterns or differences in the combined 'Engagement Score' and 'Experience Score' metrics.\n",
    "\n",
    "* Further investigation is needed to understand the characteristics of each cluster and what they represent in the context of your data.\n",
    "\n",
    "* Visualization of the clusters and analysis of cluster characteristics (e.g., mean scores) would provide more insights into the segmentation of your data.\n",
    "\n",
    "* Consider domain-specific knowledge to interpret the practical implications of these clusters, and evaluate whether the clustering aligns with any known patterns or expectations."
   ]
  },
  {
   "cell_type": "markdown",
   "metadata": {},
   "source": [
    "#### Aggregate the average satisfaction & experience score per cluster"
   ]
  },
  {
   "cell_type": "code",
   "execution_count": 45,
   "metadata": {},
   "outputs": [
    {
     "name": "stdout",
     "output_type": "stream",
     "text": [
      "   Cluster  Satisfaction Score  Experience Score\n",
      "0        0        1.658463e+08          0.998798\n",
      "1        1        3.554031e+08          0.648617\n"
     ]
    }
   ],
   "source": [
    "combined_scores = pd.merge(satisfaction_analysis, experience_metrics[['MSISDN/Number', 'Cluster','Experience Score']], on='MSISDN/Number')\n",
    "\n",
    "cluster_aggregation = combined_scores.groupby('Cluster').agg({\n",
    "    'Satisfaction Score': 'mean',\n",
    "    'Experience Score': 'mean'\n",
    "}).reset_index()\n",
    "\n",
    "print(cluster_aggregation)"
   ]
  },
  {
   "cell_type": "code",
   "execution_count": 46,
   "metadata": {},
   "outputs": [
    {
     "data": {
      "image/png": "[encoded data removed]",
      "text/plain": [
       "<Figure size 1000x600 with 1 Axes>"
      ]
     },
     "metadata": {},
     "output_type": "display_data"
    }
   ],
   "source": [
    "plt.figure(figsize=(10, 6))\n",
    "plt.plot(cluster_aggregation['Cluster'], cluster_aggregation['Satisfaction Score'], marker='o', label='Satisfaction Score')\n",
    "plt.plot(cluster_aggregation['Cluster'], cluster_aggregation['Experience Score'], marker='s', label='Experience Score')\n",
    "\n",
    "plt.xlabel('Cluster')\n",
    "plt.ylabel('Score')\n",
    "plt.title('Average Satisfaction and Experience Scores by Cluster')\n",
    "plt.legend()\n",
    "\n",
    "plt.grid(True)\n",
    "plt.show()"
   ]
  },
  {
   "cell_type": "markdown",
   "metadata": {},
   "source": [
    "Interpretation:\n",
    "\n",
    "Cluster 0:\n",
    "\n",
    "Satisfaction Score: The average satisfaction score for Cluster 0 is approximately 1.66e+08.\n",
    "Experience Score: The average experience score for Cluster 0 is around 0.9988.\n",
    "Cluster 1:\n",
    "\n",
    "Satisfaction Score: The average satisfaction score for Cluster 1 is approximately 3.55e+08.\n",
    "Experience Score: The average experience score for Cluster 1 is about 0.6486.\n",
    "Conclusions:\n",
    "\n",
    "Cluster Comparison:\n",
    "\n",
    "Cluster 1 has significantly higher average satisfaction scores compared to Cluster 0.\n",
    "However, Cluster 0 has a higher average experience score compared to Cluster 1.\n",
    "Customer Segmentation:\n",
    "\n",
    "The clusters seem to represent different segments of customers based on their satisfaction and experience scores.\n",
    "Cluster 1 stands out for having higher satisfaction, indicating that customers in this cluster are generally more satisfied.\n",
    "Cluster 0, on the other hand, has a higher experience score, suggesting that while satisfaction might be lower, the overall experience is rated higher in this cluster.\n",
    "Action Items:\n",
    "\n",
    "For Cluster 1: Focus on maintaining and improving satisfaction levels as they are already high.\n",
    "For Cluster 0: Consider investigating factors contributing to lower satisfaction despite a higher experience score. Identify areas for improvement to enhance overall customer satisfaction.\n",
    "Further Analysis:\n",
    "\n",
    "Explore additional factors that may contribute to satisfaction and experience, such as specific services, products, or customer interactions.\n",
    "Consider conducting customer surveys or feedback sessions to gather qualitative insights and better understand the reasons behind the satisfaction and experience scores."
   ]
  },
  {
   "cell_type": "markdown",
   "metadata": {},
   "source": [
    "#### Data Exported"
   ]
  },
  {
   "cell_type": "code",
   "execution_count": 58,
   "metadata": {},
   "outputs": [
    {
     "name": "stdout",
     "output_type": "stream",
     "text": [
      "Data exported to satisfaction_data.csv\n"
     ]
    }
   ],
   "source": [
    "satisfaction_data = pd.DataFrame(satisfaction_analysis)\n",
    "csv_file_path = 'satisfaction_data.csv'\n",
    "satisfaction_data.to_csv(csv_file_path, index=False)\n",
    "print(f'Data exported to {csv_file_path}')"
   ]
  },
  {
   "cell_type": "code",
   "execution_count": 59,
   "metadata": {},
   "outputs": [
    {
     "name": "stdout",
     "output_type": "stream",
     "text": [
      "Data exported to engagement_data.csv\n"
     ]
    }
   ],
   "source": [
    "engagement_data = pd.DataFrame(engagement_metrics)\n",
    "csv_file_path = 'engagement_data.csv'\n",
    "engagement_data.to_csv(csv_file_path, index=False)\n",
    "print(f'Data exported to {csv_file_path}')"
   ]
  },
  {
   "cell_type": "code",
   "execution_count": 60,
   "metadata": {},
   "outputs": [
    {
     "name": "stdout",
     "output_type": "stream",
     "text": [
      "Data exported to experience_data.csv\n"
     ]
    }
   ],
   "source": [
    "experience_data = pd.DataFrame(experience_metrics)\n",
    "csv_file_path = 'experience_data.csv'\n",
    "experience_data.to_csv(csv_file_path, index=False)\n",
    "print(f'Data exported to {csv_file_path}')"
   ]
  },
  {
   "cell_type": "markdown",
   "metadata": {},
   "source": [
    "#### **FINAL CONCLUSION AND RECOMMENDATION**"
   ]
  },
  {
   "cell_type": "markdown",
   "metadata": {},
   "source": [
    "\n",
    "Based on the comprehensive analysis of TelCo's telecommunication dataset, the findings suggest positive growth potential for the company. The insights derived from market dominance, user engagement clusters, application usage, network performance, and satisfaction analysis provide a solid foundation for strategic decision-making. Therefore, it is recommended that your employer considers acquiring TelCo's telecom business.\n",
    "\n",
    "**Key Reasons for Recommendation:**\n",
    "\n",
    "* Targeted Marketing Opportunities: The identification of market-dominant players and user engagement clusters allows for the development of targeted marketing strategies. Aligning with key industry giants and tailoring approaches to specific user groups can significantly enhance the effectiveness of marketing initiatives.\n",
    "\n",
    "* Optimized Resource Allocation: The segmentation of user engagement clusters facilitates optimized resource allocation. By tailoring strategies to the preferences and behaviors of each cluster, the marketing team can efficiently allocate resources, ensuring maximum impact on the identified target audience.\n",
    "\n",
    "* Service Enhancement Opportunities: Insights into application usage, network performance, and device characteristics provide actionable information for service enhancement. By addressing network issues promptly and understanding user preferences, TelCo can improve overall service quality, leading to increased customer satisfaction.\n",
    "\n",
    "* Customer-Centric Initiatives: The satisfaction analysis and model building offer a comprehensive view of user satisfaction. Leveraging this information allows for the identification of top-performing customers and areas for improvement. Implementing customer-centric initiatives based on these insights can further elevate overall satisfaction levels.\n",
    "\n",
    "**Limitations of the Analysis:**\n",
    "\n",
    "While the analysis provides valuable insights, it's essential to acknowledge certain limitations:\n",
    "\n",
    "* Data Scope: The analysis relies on the available dataset, and the findings may be influenced by the scope and depth of the data. Incomplete or biased data may limit the accuracy of the conclusions drawn.\n",
    "\n",
    "* Market Dynamics: External factors such as economic conditions, regulatory changes, or technological advancements are not fully considered in the analysis. These factors can significantly impact the telecom industry's growth potential.\n",
    "\n",
    "* Competitive Landscape: The dataset primarily focuses on user behavior and network performance within TelCo's business. A more comprehensive understanding of the competitive landscape and market dynamics beyond the dataset would provide a more holistic view.\n",
    "\n",
    "**Recommendation on Acquisition:**\n",
    "\n",
    "Given the positive growth potential indicated by the analysis and the strategic opportunities outlined, it is recommended that your employer seriously considers the acquisition of TelCo's telecom business. However, it is crucial to conduct further due diligence, considering the limitations mentioned, and to assess the financial aspects and potential risks associated with the acquisition.\n"
   ]
  },
  {
   "cell_type": "code",
   "execution_count": null,
   "metadata": {},
   "outputs": [],
   "source": []
  }
 ],
 "metadata": {
  "kernelspec": {
   "display_name": "base",
   "language": "python",
   "name": "python3"
  },
  "language_info": {
   "codemirror_mode": {
    "name": "ipython",
    "version": 3
   },
   "file_extension": ".py",
   "mimetype": "text/x-python",
   "name": "python",
   "nbconvert_exporter": "python",
   "pygments_lexer": "ipython3",
   "version": "3.10.9"
  }
 },
 "nbformat": 4,
 "nbformat_minor": 2
}
